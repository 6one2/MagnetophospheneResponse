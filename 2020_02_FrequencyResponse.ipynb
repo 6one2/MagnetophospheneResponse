{
 "cells": [
  {
   "cell_type": "markdown",
   "metadata": {},
   "source": [
    "# Presents all data from the Frequency Response Magnetophosphene study\n",
    "## effect of ELF-MF (up to 300Hz) on magnetophosphene perception threshold"
   ]
  },
  {
   "cell_type": "code",
   "execution_count": null,
   "metadata": {},
   "outputs": [],
   "source": [
    "import numpy as np\n",
    "import pandas as pd\n",
    "import matplotlib.pyplot as plt\n",
    "import seaborn as sns\n",
    "from pylab import rcParams\n",
    "\n",
    "rcParams['figure.figsize'] = 10, 10\n",
    "sns.set_style(\"whitegrid\")\n",
    "\n",
    "%matplotlib inline"
   ]
  },
  {
   "cell_type": "code",
   "execution_count": null,
   "metadata": {},
   "outputs": [],
   "source": [
    "filename = '../DATA/All_Thresholds.txt'\n",
    "data = pd.read_csv(filename,sep='\\t')\n",
    "data['Perceived'] = data.Threshold > 0  # perceived if threshold value\n",
    "data.head()"
   ]
  },
  {
   "cell_type": "markdown",
   "metadata": {},
   "source": [
    "## extract percentage of perception for each frequency"
   ]
  },
  {
   "cell_type": "code",
   "execution_count": null,
   "metadata": {},
   "outputs": [],
   "source": [
    "frequencies = data.Frequency.unique()\n",
    "frequencies.sort()"
   ]
  },
  {
   "cell_type": "code",
   "execution_count": null,
   "metadata": {},
   "outputs": [],
   "source": [
    "distr_perceived = pd.Series(index = frequencies)\n",
    "\n",
    "for fr in frequencies:\n",
    "    df = data.loc[data['Frequency']==fr,'Perceived']\n",
    "    if df.any():\n",
    "        percentage = df.value_counts()[True]/df.value_counts().sum()\n",
    "    else:\n",
    "        percentage = 0\n",
    "    \n",
    "    distr_perceived[fr] = percentage"
   ]
  },
  {
   "cell_type": "code",
   "execution_count": null,
   "metadata": {},
   "outputs": [],
   "source": [
    "df"
   ]
  },
  {
   "cell_type": "code",
   "execution_count": null,
   "metadata": {},
   "outputs": [],
   "source": [
    "fig, ax  = plt.subplots()\n",
    "ax.plot(distr_perceived.index, distr_perceived, color='blue', lw='2')\n",
    "ax.fill_between(distr_perceived.index, 0, distr_perceived, alpha=.3)\n",
    "\n",
    "ax.plot(distr_perceived[distr_perceived > 0.8], 'k.', ms=15)\n",
    "# ax.plot(distr_perceived[distr_perceived > 0.95], 'r.')\n",
    "\n",
    "plt.xticks(frequencies)\n",
    "plt.xlabel('MF Frequency (Hz)')\n",
    "plt.ylabel('Perception rate %')"
   ]
  },
  {
   "cell_type": "code",
   "execution_count": null,
   "metadata": {},
   "outputs": [],
   "source": [
    "# plt.scatter(data.Frequency, data.Threshold)\n",
    "plt.figure()\n",
    "sns.stripplot(x=\"Frequency\", y=\"Threshold\", data=data, color='black')"
   ]
  },
  {
   "cell_type": "code",
   "execution_count": null,
   "metadata": {},
   "outputs": [],
   "source": [
    "plt.figure()\n",
    "plt.plot(data.index, data.Threshold > 0, 'r.')\n",
    "plt.plot(data.index, data['Yes/No'], 'bo', fillstyle='none')"
   ]
  },
  {
   "cell_type": "markdown",
   "metadata": {},
   "source": [
    "## polynomial regression"
   ]
  },
  {
   "cell_type": "code",
   "execution_count": null,
   "metadata": {},
   "outputs": [],
   "source": [
    "data = data.set_index('Frequency')\n",
    "idxFreq = distr_perceived[distr_perceived >0.8].index\n",
    "data"
   ]
  },
  {
   "cell_type": "code",
   "execution_count": null,
   "metadata": {},
   "outputs": [],
   "source": [
    "# new_data = data.loc[idxFreq].dropna(subset=[\"Threshold\"]) ## remove rows with no perception\n",
    "new_data = data[data['Perceived']].loc[idxFreq]"
   ]
  },
  {
   "cell_type": "markdown",
   "metadata": {},
   "source": [
    "### Using sklearn linear_model - polynomialFeatures\n",
    "(can be done with numpy poly1d)"
   ]
  },
  {
   "cell_type": "code",
   "execution_count": null,
   "metadata": {},
   "outputs": [],
   "source": [
    "from sklearn.linear_model import LinearRegression\n",
    "from sklearn.metrics import mean_squared_error, r2_score\n",
    "from sklearn.preprocessing import PolynomialFeatures"
   ]
  },
  {
   "cell_type": "code",
   "execution_count": null,
   "metadata": {},
   "outputs": [],
   "source": [
    "Freq = new_data.index.to_numpy()\n",
    "Thres = new_data.Threshold\n",
    "nFreq = np.arange(0,150)\n",
    "\n",
    "x = Freq[:, np.newaxis]\n",
    "y = Thres[:, np.newaxis]\n",
    "new_x = np.arange(0,150)[:,np.newaxis]\n",
    "\n",
    "polynomial_features = PolynomialFeatures(degree=2)\n",
    "x_poly = polynomial_features.fit_transform(x)\n",
    "newx_poly = polynomial_features.fit_transform(new_x)\n",
    "\n",
    "model = LinearRegression()\n",
    "\n",
    "# linear regression\n",
    "model.fit(x, y)\n",
    "y_pred = model.predict(new_x)\n",
    "\n",
    "# polynomial regression\n",
    "model.fit(x_poly, y)\n",
    "ypol_predict = model.predict(newx_poly)"
   ]
  },
  {
   "cell_type": "code",
   "execution_count": null,
   "metadata": {},
   "outputs": [],
   "source": [
    "plt.figure()\n",
    "plt.scatter(data.index, data.Threshold, color='k')\n",
    "\n",
    "plt.plot(Freq, Thres, 'r.', ms=5)\n",
    "plt.plot(new_x, y_pred, 'blue')\n",
    "plt.plot(new_x, ypol_predict, 'm')"
   ]
  },
  {
   "cell_type": "markdown",
   "metadata": {},
   "source": [
    "### Using StatsModels for statistics\n",
    "https://ostwalprasad.github.io/machine-learning/Polynomial-Regression-using-statsmodel.html"
   ]
  },
  {
   "cell_type": "code",
   "execution_count": null,
   "metadata": {},
   "outputs": [],
   "source": [
    "import statsmodels.api as sm"
   ]
  },
  {
   "cell_type": "code",
   "execution_count": null,
   "metadata": {},
   "outputs": [],
   "source": [
    "s_model = sm.OLS(y, x_poly).fit()\n",
    "sy_pred = s_model.predict(x_poly)"
   ]
  },
  {
   "cell_type": "code",
   "execution_count": null,
   "metadata": {},
   "outputs": [],
   "source": [
    "s_model.summary()"
   ]
  },
  {
   "cell_type": "code",
   "execution_count": null,
   "metadata": {},
   "outputs": [],
   "source": [
    "predictions = s_model.get_prediction(newx_poly)\n",
    "toto = predictions.summary_frame(alpha=0.01)"
   ]
  },
  {
   "cell_type": "code",
   "execution_count": null,
   "metadata": {},
   "outputs": [],
   "source": [
    "toto"
   ]
  },
  {
   "cell_type": "code",
   "execution_count": null,
   "metadata": {},
   "outputs": [],
   "source": [
    "predictions = s_model.get_prediction(newx_poly)"
   ]
  },
  {
   "cell_type": "code",
   "execution_count": null,
   "metadata": {},
   "outputs": [],
   "source": [
    "conf_95 = predictions.summary_frame()\n",
    "conf_01 = predictions.summary_frame(alpha=0.01)\n",
    "\n",
    "fig, ax1 = plt.subplots()\n",
    "plt.plot(new_x,conf_95['mean'],'b', linewidth=3, label=\"Mean\")\n",
    "plt.plot(new_x,conf_95['mean_ci_lower'],'cyan')\n",
    "plt.plot(new_x,conf_95['mean_ci_upper'],'cyan')\n",
    "plt.fill_between(conf_95.index, conf_95.mean_ci_lower, conf_95.mean_ci_upper, alpha=.3)\n",
    "\n",
    "plt.plot(new_x,conf_01.obs_ci_upper,':',label=\"99%\")\n",
    "plt.plot(new_x,conf_95.obs_ci_upper,':',label=\"87.5%\")\n",
    "plt.plot(new_x,conf_95.obs_ci_lower,':',label=\"2.5%\")\n",
    "plt.plot(new_x,conf_01.obs_ci_lower,':',label=\"1%\")\n",
    "\n",
    "plt.plot(data[data['Perceived']].index, data[data['Perceived']].Threshold, 'k.')\n",
    "plt.plot(Freq, Thres, 'r.', ms=2)\n",
    "\n",
    "plt.xlabel('MF Frequency (Hz)')\n",
    "plt.ylabel('Threshold (mT)')\n",
    "\n",
    "plt.legend()\n",
    "\n",
    "# plot perception rate\n",
    "if False:\n",
    "    ax2 = ax1.twinx()\n",
    "    ax2.plot(distr_perceived.index, distr_perceived, color='blue', lw='0.5')\n",
    "    ax2.fill_between(distr_perceived.index, 0, distr_perceived, alpha=.1)"
   ]
  },
  {
   "cell_type": "code",
   "execution_count": null,
   "metadata": {},
   "outputs": [],
   "source": [
    "fig.savefig('../ThresholdModels.png',dpi=300)"
   ]
  },
  {
   "cell_type": "code",
   "execution_count": null,
   "metadata": {},
   "outputs": [],
   "source": [
    "# data[data.Threshold > 70].to_csv('HighThreshold.csv')"
   ]
  },
  {
   "cell_type": "markdown",
   "metadata": {},
   "source": [
    "___\n",
    "## __Explore first 12 subjects__"
   ]
  },
  {
   "cell_type": "code",
   "execution_count": null,
   "metadata": {},
   "outputs": [],
   "source": [
    "data.ID.unique()"
   ]
  },
  {
   "cell_type": "code",
   "execution_count": null,
   "metadata": {},
   "outputs": [],
   "source": [
    "bID = ['P1', 'P2', 'P3', 'P4', 'P5', 'P7', 'P8', 'P9', 'P10', 'P12']"
   ]
  },
  {
   "cell_type": "code",
   "execution_count": null,
   "metadata": {},
   "outputs": [],
   "source": [
    "df = data.loc[data.ID.isin(bID),:]"
   ]
  },
  {
   "cell_type": "code",
   "execution_count": null,
   "metadata": {},
   "outputs": [],
   "source": [
    "plt.plot(data.index, data.Threshold, 'k.')\n",
    "plt.plot(df.index, df.Threshold, 'y.', ms=10)\n",
    "plt.xticks(ticks=frequencies, labels=frequencies)\n",
    "plt.hlines(y=6, xmin=0, xmax=300)"
   ]
  },
  {
   "cell_type": "markdown",
   "metadata": {},
   "source": [
    "___\n",
    "## __Explore P50 with low thresholds__"
   ]
  },
  {
   "cell_type": "code",
   "execution_count": null,
   "metadata": {},
   "outputs": [],
   "source": [
    "data[(data.Threshold < 6) & (data.Threshold > 0)].ID.unique()"
   ]
  },
  {
   "cell_type": "code",
   "execution_count": null,
   "metadata": {},
   "outputs": [],
   "source": [
    "plt.plot(data[data.ID=='P50'].index, data[data.ID=='P50'].Threshold, 'b.', ms=20)"
   ]
  },
  {
   "cell_type": "markdown",
   "metadata": {},
   "source": [
    "---\n",
    "# __Threshold Methods P59__"
   ]
  },
  {
   "cell_type": "code",
   "execution_count": null,
   "metadata": {},
   "outputs": [],
   "source": [
    "pd.options.display.max_rows = 50"
   ]
  },
  {
   "cell_type": "code",
   "execution_count": null,
   "metadata": {},
   "outputs": [],
   "source": [
    "data[data.ID=='P59'].sort_index()"
   ]
  },
  {
   "cell_type": "markdown",
   "metadata": {},
   "source": [
    "## read different threshold assessment "
   ]
  },
  {
   "cell_type": "code",
   "execution_count": null,
   "metadata": {},
   "outputs": [],
   "source": [
    "df59_b = pd.read_csv(\"B_Threshold.csv\",header=None, names='B')\n",
    "df59_mf = pd.read_csv(\"MF_Threshold.csv\",header=None, names=[\"MF\"])\n",
    "df59_rms = pd.read_csv(\"rms_Threshold.csv\",header=None, names=[\"rms\"])\n",
    "new_df = data[['ID', 'Threshold', 'Yes/No']].query('ID == \"P59\"').reset_index()\n",
    "new_df.insert(3, 'new_th',new_df['Yes/No'].mul(df59_b.B))"
   ]
  },
  {
   "cell_type": "code",
   "execution_count": null,
   "metadata": {},
   "outputs": [],
   "source": [
    "new_df"
   ]
  },
  {
   "cell_type": "code",
   "execution_count": null,
   "metadata": {},
   "outputs": [],
   "source": [
    "plt.plot(new_df['new_th'],'ro', label='model_peak')\n",
    "plt.plot(df59_rms.rms.mul(new_df['Yes/No']),'r*', label='model_rms')\n",
    "plt.plot(new_df['Threshold'],'k.', label='dial coefficient')\n",
    "plt.plot(df59_mf.MF.mul(new_df['Yes/No']),'b.', label='MF 16cm')\n",
    "\n",
    "\n",
    "plt.legend()\n",
    "plt.xlabel('iterations')\n",
    "plt.ylabel('Threshold rms  - B (mT)')"
   ]
  },
  {
   "cell_type": "code",
   "execution_count": null,
   "metadata": {},
   "outputs": [],
   "source": []
  }
 ],
 "metadata": {
  "kernelspec": {
   "display_name": "Python 3",
   "language": "python",
   "name": "python3"
  },
  "language_info": {
   "codemirror_mode": {
    "name": "ipython",
    "version": 3
   },
   "file_extension": ".py",
   "mimetype": "text/x-python",
   "name": "python",
   "nbconvert_exporter": "python",
   "pygments_lexer": "ipython3",
   "version": "3.7.6"
  }
 },
 "nbformat": 4,
 "nbformat_minor": 4
}
