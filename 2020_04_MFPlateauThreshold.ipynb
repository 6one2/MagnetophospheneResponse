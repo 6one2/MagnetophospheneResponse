{
 "cells": [
  {
   "cell_type": "markdown",
   "metadata": {},
   "source": [
    "# __Find threshold to determine the MF threshold__"
   ]
  },
  {
   "cell_type": "code",
   "execution_count": 7,
   "metadata": {},
   "outputs": [],
   "source": [
    "import pandas as pd\n",
    "import numpy as np\n",
    "import matplotlib.pyplot as plt\n",
    "import seaborn as sns\n",
    "\n",
    "from importlib import reload\n",
    "import sys\n",
    "\n",
    "from MF_plateauTest import MovingAv, rms_peak_ratio, fftspectrum\n",
    "# reload(sys.modules['MF_plateauTest'])\n",
    "\n",
    "# read all threshold for Yes/No values\n",
    "All_TH = pd.read_csv('../DATA/All_Thresholds.csv', sep='\\t')\n",
    "\n",
    "# read max field for each frequency\n",
    "refB = pd.read_csv('refB.csv')\n",
    "\n",
    "# sampling rate 10kHz\n",
    "sr = 10000\n",
    "\n",
    "# take every N-th row (for skip_rows)\n",
    "n=2\n",
    "n_sr=sr/n\n",
    "\n",
    "# subject to analyze\n",
    "ID = 28\n",
    "p_ID = \"P\"+str(ID)\n",
    "table_threshold = pd.DataFrame(data=All_TH.query(f'ID==\"P{ID}\"')).reset_index(drop=True)\n",
    "\n",
    "f_string = f'../DATA/Complete/Res_Cadence_P{ID}'"
   ]
  },
  {
   "cell_type": "code",
   "execution_count": 8,
   "metadata": {},
   "outputs": [],
   "source": [
    "plt.rcParams['figure.figsize'] = 10, 5\n",
    "plt.rcParams['figure.max_open_warning']=50\n",
    "\n",
    "sns.set_style(\"whitegrid\")"
   ]
  },
  {
   "cell_type": "markdown",
   "metadata": {},
   "source": [
    "## Load Labview file\n",
    "read and downsample to 5kHz"
   ]
  },
  {
   "cell_type": "code",
   "execution_count": 9,
   "metadata": {},
   "outputs": [
    {
     "data": {
      "text/html": [
       "<div>\n",
       "<style scoped>\n",
       "    .dataframe tbody tr th:only-of-type {\n",
       "        vertical-align: middle;\n",
       "    }\n",
       "\n",
       "    .dataframe tbody tr th {\n",
       "        vertical-align: top;\n",
       "    }\n",
       "\n",
       "    .dataframe thead th {\n",
       "        text-align: right;\n",
       "    }\n",
       "</style>\n",
       "<table border=\"1\" class=\"dataframe\">\n",
       "  <thead>\n",
       "    <tr style=\"text-align: right;\">\n",
       "      <th></th>\n",
       "      <th>Time</th>\n",
       "      <th>MF</th>\n",
       "      <th>Dial</th>\n",
       "      <th>Current</th>\n",
       "    </tr>\n",
       "  </thead>\n",
       "  <tbody>\n",
       "    <tr>\n",
       "      <th>0</th>\n",
       "      <td>0.0</td>\n",
       "      <td>0.424347</td>\n",
       "      <td>1.061074e-12</td>\n",
       "      <td>0.007693</td>\n",
       "    </tr>\n",
       "    <tr>\n",
       "      <th>1</th>\n",
       "      <td>NaN</td>\n",
       "      <td>0.195397</td>\n",
       "      <td>2.331201e-11</td>\n",
       "      <td>0.002542</td>\n",
       "    </tr>\n",
       "    <tr>\n",
       "      <th>2</th>\n",
       "      <td>NaN</td>\n",
       "      <td>0.146336</td>\n",
       "      <td>9.547344e-11</td>\n",
       "      <td>0.006727</td>\n",
       "    </tr>\n",
       "    <tr>\n",
       "      <th>3</th>\n",
       "      <td>NaN</td>\n",
       "      <td>0.056391</td>\n",
       "      <td>2.535033e-10</td>\n",
       "      <td>0.010590</td>\n",
       "    </tr>\n",
       "    <tr>\n",
       "      <th>4</th>\n",
       "      <td>NaN</td>\n",
       "      <td>0.244458</td>\n",
       "      <td>5.418799e-10</td>\n",
       "      <td>0.009302</td>\n",
       "    </tr>\n",
       "  </tbody>\n",
       "</table>\n",
       "</div>"
      ],
      "text/plain": [
       "   Time        MF          Dial   Current\n",
       "0   0.0  0.424347  1.061074e-12  0.007693\n",
       "1   NaN  0.195397  2.331201e-11  0.002542\n",
       "2   NaN  0.146336  9.547344e-11  0.006727\n",
       "3   NaN  0.056391  2.535033e-10  0.010590\n",
       "4   NaN  0.244458  5.418799e-10  0.009302"
      ]
     },
     "execution_count": 9,
     "metadata": {},
     "output_type": "execute_result"
    }
   ],
   "source": [
    "file_name_Lab = f_string+'.txt'\n",
    "\n",
    "# count the lines\n",
    "header_end = 23\n",
    "num_lines = sum(1 for i, l in enumerate(open(file_name_Lab)) if i > header_end)\n",
    "\n",
    "# the row indices to skip - make sure 0 is not included to keep header\n",
    "skip_idx = list(range(header_end-1))\n",
    "skip_idx.extend([x for x in range (header_end, num_lines) if (x-header_end) % n != 0])\n",
    "lab_df = pd.read_csv(file_name_Lab,\n",
    "                     skiprows=skip_idx, \n",
    "                     delimiter='\\t',\n",
    "                     usecols=['Untitled', 'Untitled 1', 'Untitled 2', 'Current'])\n",
    "lab_df.columns=['Time', 'MF', 'Dial', 'Current']\n",
    "lab_df.head()"
   ]
  },
  {
   "cell_type": "markdown",
   "metadata": {},
   "source": [
    "## __Find and extract iterations__\n",
    " - find each iterations\n",
    " - smooth last second (24-25s) of probe data with moving average over 10 points\n",
    " - compute $\\frac{rms}{peak}$\n",
    " - list all iterations < 0.65 and when phosphene have been perceived"
   ]
  },
  {
   "cell_type": "code",
   "execution_count": 10,
   "metadata": {},
   "outputs": [
    {
     "data": {
      "image/png": "[encoded data removed]",
      "text/plain": [
       "<Figure size 720x360 with 1 Axes>"
      ]
     },
     "metadata": {},
     "output_type": "display_data"
    }
   ],
   "source": [
    "# find all iterations\n",
    "stLab = lab_df.query('Time == 0')\n",
    "idxLab = stLab.index.tolist()\n",
    "idxLab.append(lab_df.index[-1])\n",
    "\n",
    "# span = [22]\n",
    "span = range(50)\n",
    "\n",
    "for i in span:\n",
    "    it_no = int(table_threshold.iloc[i,1])\n",
    "    fr = table_threshold.query(f'Iteration=={it_no}')['Frequency'].item()\n",
    "    max_Bpeak = refB.query(f'Frequency=={fr}')['peak'].item()\n",
    "    \n",
    "    section_Lab = np.arange(idxLab[:-1][i],idxLab[1:][i])\n",
    "    \n",
    "    data = lab_df.loc[section_Lab,:]\n",
    "    data['Time'] = np.linspace(start=1/n_sr, stop=len(data)*1/n_sr, num=len(data))\n",
    "    end_t = data.Time[-1:].item()\n",
    "    data['Iter_no'] = f'Iter{i+1}'\n",
    "\n",
    "#     n_MF = n_MF.append(data[['Time', 'MF','Iter_no']])\n",
    "    \n",
    "    # check signal frequency\n",
    "    if True:\n",
    "        freq, sp = fftspectrum(data.MF, n_sr)\n",
    "        mode_fr = freq[np.argmax(np.abs(sp.real))]\n",
    "        \n",
    "    \n",
    "    len_nosignal = len(data.query('(Time>20) & (Dial<0.05)')) #  used Dial to check signal turned back to 0\n",
    "    if len_nosignal > n_sr:\n",
    "        Perceived = 0\n",
    "    else:\n",
    "        Perceived = int(table_threshold.loc[i,'Yes/No'])\n",
    "        \n",
    "    # compute rms Threshold\n",
    "    if Perceived:\n",
    "        subset = data.query(f'Time > {end_t-1}')\n",
    "        rmsf, _, rms_peak = rms_peak_ratio(MovingAv(subset['MF'],10))\n",
    "        rms, _, _ = rms_peak_ratio(subset['MF']) if rms_peak > 0.65 else (None, None, None)\n",
    "    else:\n",
    "        rms = None\n",
    "        rms_peak = None\n",
    "            \n",
    "    table_threshold.loc[i,'Perceived'] = int(Perceived)\n",
    "    table_threshold.loc[i,'n_Threshold'] = rms\n",
    "    table_threshold.loc[i,'rms/peak'] = rms_peak\n",
    "    \n",
    "    # graph\n",
    "    if True:\n",
    "        clrs = 'blue' if Perceived else 'red'\n",
    "        data.plot(x='Time', y='MF', color=clrs)\n",
    "        plt.plot([0, end_t], [max_Bpeak, max_Bpeak],'--k')\n",
    "        plt.title(f'P{ID} - iter# {it_no} - FR {fr}Hz - Perceived {Perceived} - THR {str(rms_peak):.4} - NoSignal: {len_nosignal}')\n",
    "        plt.text(25.5,0, f'{mode_fr:.1f}Hz', {'fontweight':'bold', 'fontsize':'15'},color='k')"
   ]
  },
  {
   "cell_type": "code",
   "execution_count": null,
   "metadata": {},
   "outputs": [],
   "source": [
    "table_threshold.style\\\n",
    "    .applymap(lambda x: 'background: darkorange' if x < 0.65 else \" \", subset='rms/peak')\\\n",
    "    .bar(subset=['n_Threshold'], color='lightblue')"
   ]
  },
  {
   "cell_type": "markdown",
   "metadata": {},
   "source": [
    "## __Test $\\frac{rms}{peak}$ over sinus signal__\n",
    "create sinus with ramp and noise to test the treshold of rms/peak ratio to detect a stable signal"
   ]
  },
  {
   "cell_type": "code",
   "execution_count": null,
   "metadata": {},
   "outputs": [],
   "source": [
    "A = 80.346123\n",
    "duration=5\n",
    "# duration = data.Time.max()\n",
    "sr = 5000\n",
    "t = np.linspace(0,duration,sr*duration)\n",
    "fr = 95\n",
    "\n",
    "coef_ramp=0\n",
    "ramp = np.linspace(A,A+A*coef_ramp,len(t))\n",
    "\n",
    "coef_noise=0\n",
    "noise = (A*coef_noise*np.random.random(len(t)))\n",
    "\n",
    "\n",
    "test_sin = ramp*np.sin(fr*t)+noise\n",
    "test_sin = MovingAv(test_sin, 100)\n",
    "\n",
    "rms = np.sqrt(np.mean(test_sin**2))\n",
    "peak = np.max(test_sin)\n",
    "r = rms/peak\n",
    "\n",
    "plt.figure()\n",
    "plt.plot(t, test_sin)\n",
    "plt.title(f'ramp: {coef_ramp*100}% --- noise: {coef_noise*100}% --- ratio: {r:.3}')\n"
   ]
  },
  {
   "cell_type": "code",
   "execution_count": null,
   "metadata": {},
   "outputs": [],
   "source": []
  }
 ],
 "metadata": {
  "kernelspec": {
   "display_name": "Python 3",
   "language": "python",
   "name": "python3"
  },
  "language_info": {
   "codemirror_mode": {
    "name": "ipython",
    "version": 3
   },
   "file_extension": ".py",
   "mimetype": "text/x-python",
   "name": "python",
   "nbconvert_exporter": "python",
   "pygments_lexer": "ipython3",
   "version": "3.7.6"
  }
 },
 "nbformat": 4,
 "nbformat_minor": 4
}
