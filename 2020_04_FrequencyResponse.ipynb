{
 "cells": [
  {
   "cell_type": "markdown",
   "metadata": {},
   "source": [
    "# __Presents all data from the Frequency Response Magnetophosphene study__\n",
    "## effect of ELF-MF (up to 300Hz) on magnetophosphene perception threshold"
   ]
  },
  {
   "cell_type": "code",
   "execution_count": 39,
   "metadata": {},
   "outputs": [],
   "source": [
    "import numpy as np\n",
    "import pandas as pd\n",
    "import matplotlib.pyplot as plt\n",
    "import seaborn as sns\n",
    "from os import listdir\n",
    "import re"
   ]
  },
  {
   "cell_type": "code",
   "execution_count": 49,
   "metadata": {},
   "outputs": [],
   "source": [
    "plt.rcParams['figure.figsize'] = 10, 10\n",
    "plt.rcParams['font.family']='mono'\n",
    "plt.rcParams['font.size']=15\n",
    "\n",
    "sns.set_style(\"whitegrid\")"
   ]
  },
  {
   "cell_type": "code",
   "execution_count": 41,
   "metadata": {},
   "outputs": [
    {
     "name": "stdout",
     "output_type": "stream",
     "text": [
      "Using matplotlib backend: MacOSX\n"
     ]
    }
   ],
   "source": [
    "%matplotlib auto"
   ]
  },
  {
   "cell_type": "markdown",
   "metadata": {},
   "source": [
    "## considering only subject # 13 to # 60\n",
    "* 1 to 12 do not have 5Hz to 15Hz"
   ]
  },
  {
   "cell_type": "code",
   "execution_count": 42,
   "metadata": {},
   "outputs": [],
   "source": [
    "folder_res = '../DATA/ResTables/'\n",
    "list_files = [x for x in listdir(folder_res) if x.endswith('.csv')]\n",
    "\n",
    "All_thr = pd.DataFrame()\n",
    "Bad_ID = [13, 28, 39, 41, 50, 52, 54, 60]\n",
    "# Bad_ID = []\n",
    "\n",
    "for file_name in list_files:\n",
    "    _id = int(''.join(re.findall('[0-9]',file_name)))\n",
    "    if _id in Bad_ID:\n",
    "        continue\n",
    "    data = pd.read_csv(folder_res+file_name)\n",
    "    All_thr = All_thr.append(data)\n",
    "\n",
    "# dB/dt threshold\n",
    "All_thr['dBdt'] = All_thr['n_Threshold'] * All_thr['Frequency']"
   ]
  },
  {
   "cell_type": "markdown",
   "metadata": {},
   "source": [
    "## Extract percentage of perception for each frequency"
   ]
  },
  {
   "cell_type": "code",
   "execution_count": 43,
   "metadata": {},
   "outputs": [],
   "source": [
    "frequencies = All_thr.Frequency.unique()\n",
    "frequencies.sort()"
   ]
  },
  {
   "cell_type": "code",
   "execution_count": 44,
   "metadata": {},
   "outputs": [],
   "source": [
    "distr_perceived = pd.Series(index = frequencies, dtype=float)\n",
    "\n",
    "for fr in frequencies:\n",
    "    df = All_thr.query(f'Frequency=={fr}')['Perceived']\n",
    "    percentage = df.sum()/len(df)\n",
    "\n",
    "    \n",
    "    distr_perceived[fr] = percentage"
   ]
  },
  {
   "cell_type": "markdown",
   "metadata": {},
   "source": [
    "### Perception rate over frequency"
   ]
  },
  {
   "cell_type": "code",
   "execution_count": 45,
   "metadata": {},
   "outputs": [
    {
     "data": {
      "text/plain": [
       "Text(0, 0.5, 'Perception rate')"
      ]
     },
     "execution_count": 45,
     "metadata": {},
     "output_type": "execute_result"
    }
   ],
   "source": [
    "fig, ax  = plt.subplots()\n",
    "pl1 = ax.plot(distr_perceived.index, distr_perceived, color='blue', lw='1', marker='.')\n",
    "ax.fill_between(distr_perceived.index, 0, distr_perceived, alpha=.3)\n",
    "\n",
    "ax.plot(distr_perceived[distr_perceived > 0.8], 'k.', ms=15)\n",
    "# ax.plot(distr_perceived[distr_perceived > 0.95], 'r.')\n",
    "\n",
    "subfreq=[0,10,20,30,40,50,60,70,80,90,100,150,200,250,300]\n",
    "plt.xticks(subfreq)\n",
    "plt.xlabel('MF Frequency (Hz)', {'fontweight':'bold'})\n",
    "plt.ylabel('Perception rate', {'fontweight':'bold'})"
   ]
  },
  {
   "cell_type": "markdown",
   "metadata": {},
   "source": [
    "## raw representation of threshold"
   ]
  },
  {
   "cell_type": "code",
   "execution_count": 46,
   "metadata": {},
   "outputs": [
    {
     "data": {
      "text/plain": [
       "Text(0, 0.5, 'Frequency (Hz)')"
      ]
     },
     "execution_count": 46,
     "metadata": {},
     "output_type": "execute_result"
    }
   ],
   "source": [
    "plt.figure()\n",
    "sns.stripplot(x=\"Frequency\", y=\"Threshold\", data=All_thr, color='black')\n",
    "sns.stripplot(x=\"Frequency\", y=\"n_Threshold\", data=All_thr, color='grey')\n",
    "plt.ylabel('Threshold (mT)', {'fontweight':'bold'})\n",
    "plt.ylabel('Frequency (Hz)', {'fontweight':'bold'})"
   ]
  },
  {
   "cell_type": "markdown",
   "metadata": {},
   "source": [
    "---\n",
    "# __Regression models__\n",
    "> to express threshold value as a function of frequency\n",
    "\n",
    "We chose only the frequncies for which we have over 80% perception\n",
    "\n",
    "### __Using StatsModels for statistics__\n",
    "https://ostwalprasad.github.io/machine-learning/Polynomial-Regression-using-statsmodel.html\n",
    "\n",
    "### __Using sklearn linear_model - polynomialFeatures__\n",
    "(can be done with numpy poly1d)\n",
    "\n",
    "### __Using scipy for curve optimization with exponential model__"
   ]
  },
  {
   "cell_type": "code",
   "execution_count": 47,
   "metadata": {},
   "outputs": [],
   "source": [
    "import statsmodels.api as sm\n",
    "\n",
    "from sklearn.linear_model import LinearRegression\n",
    "from sklearn.metrics import mean_squared_error, r2_score\n",
    "from sklearn.preprocessing import PolynomialFeatures\n",
    "\n",
    "from scipy.optimize import curve_fit\n"
   ]
  },
  {
   "cell_type": "markdown",
   "metadata": {},
   "source": [
    "1. preparing the data for modeling"
   ]
  },
  {
   "cell_type": "code",
   "execution_count": 57,
   "metadata": {},
   "outputs": [],
   "source": [
    "idxFreq = distr_perceived[distr_perceived >0.8].index.values.tolist()\n",
    "data = All_thr.query(f'Frequency in {idxFreq}')[['Frequency','n_Threshold','dBdt']]\n",
    "\n",
    "#  remove nan\n",
    "data.dropna(subset=['n_Threshold'], inplace=True)\n",
    "\n",
    "Freq = data.Frequency[:, np.newaxis]\n",
    "Thres = data.n_Threshold[:, np.newaxis]\n",
    "dBdT = data.dBdt[:, np.newaxis]\n",
    "\n",
    "response = Thres\n",
    "nFreq = np.arange(5,100)[:, np.newaxis]"
   ]
  },
  {
   "cell_type": "markdown",
   "metadata": {},
   "source": []
  },
  {
   "cell_type": "markdown",
   "metadata": {},
   "source": [
    "2. Polynomial model $y = ax^{2} + bx + c$"
   ]
  },
  {
   "cell_type": "code",
   "execution_count": 13,
   "metadata": {},
   "outputs": [],
   "source": [
    "polynomial_features = PolynomialFeatures(degree=2)\n",
    "x = polynomial_features.fit_transform(Freq)\n",
    "new_x = polynomial_features.fit_transform(nFreq)"
   ]
  },
  {
   "cell_type": "markdown",
   "metadata": {},
   "source": [
    "3. Simple model $y = ax^{2} + c$"
   ]
  },
  {
   "cell_type": "code",
   "execution_count": 58,
   "metadata": {},
   "outputs": [],
   "source": [
    "x = sm.add_constant(Freq**2)\n",
    "new_x = sm.add_constant(nFreq**2)"
   ]
  },
  {
   "cell_type": "markdown",
   "metadata": {},
   "source": [
    "4. Exponential model $y = ae^{-bx} + c$"
   ]
  },
  {
   "cell_type": "code",
   "execution_count": 51,
   "metadata": {},
   "outputs": [
    {
     "name": "stderr",
     "output_type": "stream",
     "text": [
      "/Users/sebastienvillard/anaconda3/lib/python3.7/site-packages/pandas/core/series.py:679: RuntimeWarning: overflow encountered in exp\n",
      "  result = getattr(ufunc, method)(*inputs, **kwargs)\n"
     ]
    }
   ],
   "source": [
    "def func(x,a,b,c):\n",
    "    return a * np.exp(-b * x) + c\n",
    "\n",
    "coef_opt, cov = curve_fit(func, data['Frequency'], data['dBdt'])"
   ]
  },
  {
   "cell_type": "markdown",
   "metadata": {},
   "source": [
    "### __Results__"
   ]
  },
  {
   "cell_type": "code",
   "execution_count": 59,
   "metadata": {},
   "outputs": [
    {
     "data": {
      "text/html": [
       "<table class=\"simpletable\">\n",
       "<caption>OLS Regression Results</caption>\n",
       "<tr>\n",
       "  <th>Dep. Variable:</th>            <td>y</td>        <th>  R-squared:         </th> <td>   0.101</td>\n",
       "</tr>\n",
       "<tr>\n",
       "  <th>Model:</th>                   <td>OLS</td>       <th>  Adj. R-squared:    </th> <td>   0.100</td>\n",
       "</tr>\n",
       "<tr>\n",
       "  <th>Method:</th>             <td>Least Squares</td>  <th>  F-statistic:       </th> <td>   119.1</td>\n",
       "</tr>\n",
       "<tr>\n",
       "  <th>Date:</th>             <td>Thu, 30 Apr 2020</td> <th>  Prob (F-statistic):</th> <td>2.31e-26</td>\n",
       "</tr>\n",
       "<tr>\n",
       "  <th>Time:</th>                 <td>13:45:13</td>     <th>  Log-Likelihood:    </th> <td> -4121.5</td>\n",
       "</tr>\n",
       "<tr>\n",
       "  <th>No. Observations:</th>      <td>  1063</td>      <th>  AIC:               </th> <td>   8247.</td>\n",
       "</tr>\n",
       "<tr>\n",
       "  <th>Df Residuals:</th>          <td>  1061</td>      <th>  BIC:               </th> <td>   8257.</td>\n",
       "</tr>\n",
       "<tr>\n",
       "  <th>Df Model:</th>              <td>     1</td>      <th>                     </th>     <td> </td>   \n",
       "</tr>\n",
       "<tr>\n",
       "  <th>Covariance Type:</th>      <td>nonrobust</td>    <th>                     </th>     <td> </td>   \n",
       "</tr>\n",
       "</table>\n",
       "<table class=\"simpletable\">\n",
       "<tr>\n",
       "    <td></td>       <th>coef</th>     <th>std err</th>      <th>t</th>      <th>P>|t|</th>  <th>[0.025</th>    <th>0.975]</th>  \n",
       "</tr>\n",
       "<tr>\n",
       "  <th>const</th> <td>   26.8507</td> <td>    0.575</td> <td>   46.726</td> <td> 0.000</td> <td>   25.723</td> <td>   27.978</td>\n",
       "</tr>\n",
       "<tr>\n",
       "  <th>x1</th>    <td>    0.0023</td> <td>    0.000</td> <td>   10.915</td> <td> 0.000</td> <td>    0.002</td> <td>    0.003</td>\n",
       "</tr>\n",
       "</table>\n",
       "<table class=\"simpletable\">\n",
       "<tr>\n",
       "  <th>Omnibus:</th>       <td>121.440</td> <th>  Durbin-Watson:     </th> <td>   1.284</td>\n",
       "</tr>\n",
       "<tr>\n",
       "  <th>Prob(Omnibus):</th> <td> 0.000</td>  <th>  Jarque-Bera (JB):  </th> <td> 166.532</td>\n",
       "</tr>\n",
       "<tr>\n",
       "  <th>Skew:</th>          <td> 0.873</td>  <th>  Prob(JB):          </th> <td>6.89e-37</td>\n",
       "</tr>\n",
       "<tr>\n",
       "  <th>Kurtosis:</th>      <td> 3.844</td>  <th>  Cond. No.          </th> <td>4.41e+03</td>\n",
       "</tr>\n",
       "</table><br/><br/>Warnings:<br/>[1] Standard Errors assume that the covariance matrix of the errors is correctly specified.<br/>[2] The condition number is large, 4.41e+03. This might indicate that there are<br/>strong multicollinearity or other numerical problems."
      ],
      "text/plain": [
       "<class 'statsmodels.iolib.summary.Summary'>\n",
       "\"\"\"\n",
       "                            OLS Regression Results                            \n",
       "==============================================================================\n",
       "Dep. Variable:                      y   R-squared:                       0.101\n",
       "Model:                            OLS   Adj. R-squared:                  0.100\n",
       "Method:                 Least Squares   F-statistic:                     119.1\n",
       "Date:                Thu, 30 Apr 2020   Prob (F-statistic):           2.31e-26\n",
       "Time:                        13:45:13   Log-Likelihood:                -4121.5\n",
       "No. Observations:                1063   AIC:                             8247.\n",
       "Df Residuals:                    1061   BIC:                             8257.\n",
       "Df Model:                           1                                         \n",
       "Covariance Type:            nonrobust                                         \n",
       "==============================================================================\n",
       "                 coef    std err          t      P>|t|      [0.025      0.975]\n",
       "------------------------------------------------------------------------------\n",
       "const         26.8507      0.575     46.726      0.000      25.723      27.978\n",
       "x1             0.0023      0.000     10.915      0.000       0.002       0.003\n",
       "==============================================================================\n",
       "Omnibus:                      121.440   Durbin-Watson:                   1.284\n",
       "Prob(Omnibus):                  0.000   Jarque-Bera (JB):              166.532\n",
       "Skew:                           0.873   Prob(JB):                     6.89e-37\n",
       "Kurtosis:                       3.844   Cond. No.                     4.41e+03\n",
       "==============================================================================\n",
       "\n",
       "Warnings:\n",
       "[1] Standard Errors assume that the covariance matrix of the errors is correctly specified.\n",
       "[2] The condition number is large, 4.41e+03. This might indicate that there are\n",
       "strong multicollinearity or other numerical problems.\n",
       "\"\"\""
      ]
     },
     "execution_count": 59,
     "metadata": {},
     "output_type": "execute_result"
    }
   ],
   "source": [
    "model = sm.OLS(response, x).fit()\n",
    "model.summary()"
   ]
  },
  {
   "cell_type": "markdown",
   "metadata": {},
   "source": [
    "### __Predictions__"
   ]
  },
  {
   "cell_type": "markdown",
   "metadata": {},
   "source": [
    "__compute predictions with Confidence intervals & Predcition intervals__"
   ]
  },
  {
   "cell_type": "code",
   "execution_count": 60,
   "metadata": {},
   "outputs": [
    {
     "data": {
      "text/html": [
       "<div>\n",
       "<style scoped>\n",
       "    .dataframe tbody tr th:only-of-type {\n",
       "        vertical-align: middle;\n",
       "    }\n",
       "\n",
       "    .dataframe tbody tr th {\n",
       "        vertical-align: top;\n",
       "    }\n",
       "\n",
       "    .dataframe thead th {\n",
       "        text-align: right;\n",
       "    }\n",
       "</style>\n",
       "<table border=\"1\" class=\"dataframe\">\n",
       "  <thead>\n",
       "    <tr style=\"text-align: right;\">\n",
       "      <th></th>\n",
       "      <th>mean</th>\n",
       "      <th>mean_se</th>\n",
       "      <th>mean_ci_lower</th>\n",
       "      <th>mean_ci_upper</th>\n",
       "      <th>obs_ci_lower</th>\n",
       "      <th>obs_ci_upper</th>\n",
       "    </tr>\n",
       "  </thead>\n",
       "  <tbody>\n",
       "    <tr>\n",
       "      <th>0</th>\n",
       "      <td>26.907662</td>\n",
       "      <td>0.570573</td>\n",
       "      <td>26.522685</td>\n",
       "      <td>27.292640</td>\n",
       "      <td>19.006736</td>\n",
       "      <td>34.808589</td>\n",
       "    </tr>\n",
       "    <tr>\n",
       "      <th>1</th>\n",
       "      <td>26.932745</td>\n",
       "      <td>0.568788</td>\n",
       "      <td>26.548972</td>\n",
       "      <td>27.316518</td>\n",
       "      <td>19.031877</td>\n",
       "      <td>34.833613</td>\n",
       "    </tr>\n",
       "    <tr>\n",
       "      <th>2</th>\n",
       "      <td>26.962388</td>\n",
       "      <td>0.566683</td>\n",
       "      <td>26.580035</td>\n",
       "      <td>27.344741</td>\n",
       "      <td>19.061589</td>\n",
       "      <td>34.863187</td>\n",
       "    </tr>\n",
       "    <tr>\n",
       "      <th>3</th>\n",
       "      <td>26.996592</td>\n",
       "      <td>0.564261</td>\n",
       "      <td>26.615873</td>\n",
       "      <td>27.377310</td>\n",
       "      <td>19.095872</td>\n",
       "      <td>34.897312</td>\n",
       "    </tr>\n",
       "    <tr>\n",
       "      <th>4</th>\n",
       "      <td>27.035356</td>\n",
       "      <td>0.561524</td>\n",
       "      <td>26.656483</td>\n",
       "      <td>27.414228</td>\n",
       "      <td>19.134724</td>\n",
       "      <td>34.935987</td>\n",
       "    </tr>\n",
       "    <tr>\n",
       "      <th>...</th>\n",
       "      <td>...</td>\n",
       "      <td>...</td>\n",
       "      <td>...</td>\n",
       "      <td>...</td>\n",
       "      <td>...</td>\n",
       "      <td>...</td>\n",
       "    </tr>\n",
       "    <tr>\n",
       "      <th>90</th>\n",
       "      <td>47.429767</td>\n",
       "      <td>1.480514</td>\n",
       "      <td>46.430832</td>\n",
       "      <td>48.428701</td>\n",
       "      <td>39.475252</td>\n",
       "      <td>55.384281</td>\n",
       "    </tr>\n",
       "    <tr>\n",
       "      <th>91</th>\n",
       "      <td>47.865291</td>\n",
       "      <td>1.519256</td>\n",
       "      <td>46.840217</td>\n",
       "      <td>48.890365</td>\n",
       "      <td>39.907452</td>\n",
       "      <td>55.823131</td>\n",
       "    </tr>\n",
       "    <tr>\n",
       "      <th>92</th>\n",
       "      <td>48.305376</td>\n",
       "      <td>1.558462</td>\n",
       "      <td>47.253849</td>\n",
       "      <td>49.356904</td>\n",
       "      <td>40.344086</td>\n",
       "      <td>56.266666</td>\n",
       "    </tr>\n",
       "    <tr>\n",
       "      <th>93</th>\n",
       "      <td>48.750022</td>\n",
       "      <td>1.598131</td>\n",
       "      <td>47.671729</td>\n",
       "      <td>49.828315</td>\n",
       "      <td>40.785153</td>\n",
       "      <td>56.714891</td>\n",
       "    </tr>\n",
       "    <tr>\n",
       "      <th>94</th>\n",
       "      <td>49.199228</td>\n",
       "      <td>1.638260</td>\n",
       "      <td>48.093859</td>\n",
       "      <td>50.304597</td>\n",
       "      <td>41.230648</td>\n",
       "      <td>57.167808</td>\n",
       "    </tr>\n",
       "  </tbody>\n",
       "</table>\n",
       "<p>95 rows × 6 columns</p>\n",
       "</div>"
      ],
      "text/plain": [
       "         mean   mean_se  mean_ci_lower  mean_ci_upper  obs_ci_lower  \\\n",
       "0   26.907662  0.570573      26.522685      27.292640     19.006736   \n",
       "1   26.932745  0.568788      26.548972      27.316518     19.031877   \n",
       "2   26.962388  0.566683      26.580035      27.344741     19.061589   \n",
       "3   26.996592  0.564261      26.615873      27.377310     19.095872   \n",
       "4   27.035356  0.561524      26.656483      27.414228     19.134724   \n",
       "..        ...       ...            ...            ...           ...   \n",
       "90  47.429767  1.480514      46.430832      48.428701     39.475252   \n",
       "91  47.865291  1.519256      46.840217      48.890365     39.907452   \n",
       "92  48.305376  1.558462      47.253849      49.356904     40.344086   \n",
       "93  48.750022  1.598131      47.671729      49.828315     40.785153   \n",
       "94  49.199228  1.638260      48.093859      50.304597     41.230648   \n",
       "\n",
       "    obs_ci_upper  \n",
       "0      34.808589  \n",
       "1      34.833613  \n",
       "2      34.863187  \n",
       "3      34.897312  \n",
       "4      34.935987  \n",
       "..           ...  \n",
       "90     55.384281  \n",
       "91     55.823131  \n",
       "92     56.266666  \n",
       "93     56.714891  \n",
       "94     57.167808  \n",
       "\n",
       "[95 rows x 6 columns]"
      ]
     },
     "metadata": {},
     "output_type": "display_data"
    }
   ],
   "source": [
    "predictions = model.get_prediction(new_x)\n",
    "alpha = 0.50\n",
    "conf_95 = predictions.summary_frame()\n",
    "conf_01 = predictions.summary_frame(alpha=alpha)\n",
    "display(conf_01)"
   ]
  },
  {
   "cell_type": "code",
   "execution_count": 78,
   "metadata": {},
   "outputs": [],
   "source": [
    "fig, ax1 = plt.subplots()\n",
    "nFreq = nFreq.ravel()\n",
    "plt.plot(nFreq,conf_95['mean'],'b', linewidth=3, label=\"Mean\")\n",
    "plt.plot(nFreq,conf_95['mean_ci_lower'],'cyan')\n",
    "plt.plot(nFreq,conf_95['mean_ci_upper'],'cyan')\n",
    "plt.fill_between(nFreq, conf_95.mean_ci_lower, conf_95.mean_ci_upper, alpha=.3)\n",
    "\n",
    "plt.plot(nFreq,conf_01.obs_ci_upper,':',label=f\"{(1-alpha)*100}%\")\n",
    "plt.plot(nFreq,conf_95.obs_ci_upper,':',label=\"87.5%\")\n",
    "plt.plot(nFreq,conf_95.obs_ci_lower,':',label=\"2.5%\")\n",
    "plt.plot(nFreq,conf_01.obs_ci_lower,'--',label=f\"{alpha*100}%\",linewidth=2)\n",
    "\n",
    "# plt.plot(All_thr.Frequency, All_thr.n_Threshold, 'k.')\n",
    "plt.plot(Freq, response, 'r.', ms=2)\n",
    "\n",
    "plt.xlabel('MF Frequency (Hz)')\n",
    "plt.ylabel('Threshold (mT)')\n",
    "\n",
    "plt.legend()\n",
    "\n",
    "# plot perception rate\n",
    "if False:\n",
    "    ax2 = ax1.twinx()\n",
    "    ax2.plot(distr_perceived.index, distr_perceived, color='blue', lw='0.5')\n",
    "    ax2.fill_between(distr_perceived.index, 0, distr_perceived, alpha=.1)"
   ]
  },
  {
   "cell_type": "code",
   "execution_count": null,
   "metadata": {},
   "outputs": [],
   "source": [
    "# fig.savefig('../ThresholdModels.png',dpi=300)"
   ]
  },
  {
   "cell_type": "code",
   "execution_count": null,
   "metadata": {},
   "outputs": [],
   "source": [
    "# data[data.Threshold > 70].to_csv('HighThreshold.csv')"
   ]
  }
 ],
 "metadata": {
  "kernelspec": {
   "display_name": "Python 3",
   "language": "python",
   "name": "python3"
  },
  "language_info": {
   "codemirror_mode": {
    "name": "ipython",
    "version": 3
   },
   "file_extension": ".py",
   "mimetype": "text/x-python",
   "name": "python",
   "nbconvert_exporter": "python",
   "pygments_lexer": "ipython3",
   "version": "3.7.6"
  }
 },
 "nbformat": 4,
 "nbformat_minor": 4
}
