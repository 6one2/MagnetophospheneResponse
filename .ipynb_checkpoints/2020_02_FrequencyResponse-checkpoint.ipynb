{
 "cells": [
  {
   "cell_type": "markdown",
   "metadata": {},
   "source": [
    "# Presents all data from the Frequency Response Magnetophosphene study\n",
    "## effect of ELF-MF (up to 300Hz) on magnetophosphene perception threshold"
   ]
  },
  {
   "cell_type": "code",
   "execution_count": 3,
   "metadata": {},
   "outputs": [
    {
     "name": "stdout",
     "output_type": "stream",
     "text": [
      "Using matplotlib backend: MacOSX\n"
     ]
    }
   ],
   "source": [
    "import numpy as np\n",
    "import pandas as pd\n",
    "import matplotlib.pyplot as plt\n",
    "import seaborn as sns\n",
    "from pylab import rcParams\n",
    "\n",
    "rcParams['figure.figsize'] = 10, 10\n",
    "sns.set_style(\"whitegrid\")\n",
    "\n",
    "%matplotlib auto"
   ]
  },
  {
   "cell_type": "code",
   "execution_count": 2,
   "metadata": {},
   "outputs": [
    {
     "data": {
      "text/html": [
       "<div>\n",
       "<style scoped>\n",
       "    .dataframe tbody tr th:only-of-type {\n",
       "        vertical-align: middle;\n",
       "    }\n",
       "\n",
       "    .dataframe tbody tr th {\n",
       "        vertical-align: top;\n",
       "    }\n",
       "\n",
       "    .dataframe thead th {\n",
       "        text-align: right;\n",
       "    }\n",
       "</style>\n",
       "<table border=\"1\" class=\"dataframe\">\n",
       "  <thead>\n",
       "    <tr style=\"text-align: right;\">\n",
       "      <th></th>\n",
       "      <th>ID</th>\n",
       "      <th>Iteration</th>\n",
       "      <th>Frequency</th>\n",
       "      <th>Threshold</th>\n",
       "      <th>Yes/No</th>\n",
       "      <th>Perceived</th>\n",
       "    </tr>\n",
       "  </thead>\n",
       "  <tbody>\n",
       "    <tr>\n",
       "      <th>0</th>\n",
       "      <td>P1</td>\n",
       "      <td>1</td>\n",
       "      <td>25</td>\n",
       "      <td>14.167777</td>\n",
       "      <td>NaN</td>\n",
       "      <td>True</td>\n",
       "    </tr>\n",
       "    <tr>\n",
       "      <th>1</th>\n",
       "      <td>P1</td>\n",
       "      <td>2</td>\n",
       "      <td>10</td>\n",
       "      <td>14.531105</td>\n",
       "      <td>NaN</td>\n",
       "      <td>True</td>\n",
       "    </tr>\n",
       "    <tr>\n",
       "      <th>2</th>\n",
       "      <td>P1</td>\n",
       "      <td>3</td>\n",
       "      <td>65</td>\n",
       "      <td>58.395892</td>\n",
       "      <td>NaN</td>\n",
       "      <td>True</td>\n",
       "    </tr>\n",
       "    <tr>\n",
       "      <th>3</th>\n",
       "      <td>P1</td>\n",
       "      <td>4</td>\n",
       "      <td>80</td>\n",
       "      <td>NaN</td>\n",
       "      <td>NaN</td>\n",
       "      <td>False</td>\n",
       "    </tr>\n",
       "    <tr>\n",
       "      <th>4</th>\n",
       "      <td>P1</td>\n",
       "      <td>5</td>\n",
       "      <td>250</td>\n",
       "      <td>NaN</td>\n",
       "      <td>NaN</td>\n",
       "      <td>False</td>\n",
       "    </tr>\n",
       "  </tbody>\n",
       "</table>\n",
       "</div>"
      ],
      "text/plain": [
       "   ID  Iteration  Frequency  Threshold  Yes/No  Perceived\n",
       "0  P1          1         25  14.167777     NaN       True\n",
       "1  P1          2         10  14.531105     NaN       True\n",
       "2  P1          3         65  58.395892     NaN       True\n",
       "3  P1          4         80        NaN     NaN      False\n",
       "4  P1          5        250        NaN     NaN      False"
      ]
     },
     "execution_count": 2,
     "metadata": {},
     "output_type": "execute_result"
    }
   ],
   "source": [
    "filename = '../DATA/All_Thresholds.txt'\n",
    "data = pd.read_csv(filename,sep='\\t')\n",
    "data['Perceived'] = data.Threshold > 0  # perceived if threshold value\n",
    "data.head()"
   ]
  },
  {
   "cell_type": "markdown",
   "metadata": {},
   "source": [
    "## extract percentage of perception for each frequency"
   ]
  },
  {
   "cell_type": "code",
   "execution_count": 4,
   "metadata": {},
   "outputs": [],
   "source": [
    "frequencies = data.Frequency.unique()\n",
    "frequencies.sort()"
   ]
  },
  {
   "cell_type": "code",
   "execution_count": 6,
   "metadata": {},
   "outputs": [
    {
     "name": "stderr",
     "output_type": "stream",
     "text": [
      "/Users/sebastienvillard/anaconda3/lib/python3.7/site-packages/ipykernel_launcher.py:1: DeprecationWarning: The default dtype for empty Series will be 'object' instead of 'float64' in a future version. Specify a dtype explicitly to silence this warning.\n",
      "  \"\"\"Entry point for launching an IPython kernel.\n"
     ]
    }
   ],
   "source": [
    "distr_perceived = pd.Series(index = frequencies)\n",
    "\n",
    "for fr in frequencies:\n",
    "    df = data.loc[data['Frequency']==fr,'Perceived']\n",
    "    if df.any():\n",
    "        percentage = df.value_counts()[True]/df.value_counts().sum()\n",
    "    else:\n",
    "        percentage = 0\n",
    "    \n",
    "    distr_perceived[fr] = percentage"
   ]
  },
  {
   "cell_type": "code",
   "execution_count": 14,
   "metadata": {},
   "outputs": [
    {
     "data": {
      "text/plain": [
       "Text(0, 0.5, 'Perception rate %')"
      ]
     },
     "execution_count": 14,
     "metadata": {},
     "output_type": "execute_result"
    }
   ],
   "source": [
    "fig, ax  = plt.subplots()\n",
    "ax.plot(distr_perceived.index, distr_perceived, color='blue', lw='2')\n",
    "ax.fill_between(distr_perceived.index, 0, distr_perceived, alpha=.3)\n",
    "\n",
    "ax.plot(distr_perceived[distr_perceived > 0.8], 'k.', ms=15)\n",
    "# ax.plot(distr_perceived[distr_perceived > 0.95], 'r.')\n",
    "\n",
    "plt.xticks(frequencies)\n",
    "plt.xlabel('MF Frequency (Hz)')\n",
    "plt.ylabel('Perception rate %')"
   ]
  },
  {
   "cell_type": "code",
   "execution_count": 8,
   "metadata": {},
   "outputs": [
    {
     "data": {
      "text/plain": [
       "<matplotlib.axes._subplots.AxesSubplot at 0x11fec9b90>"
      ]
     },
     "execution_count": 8,
     "metadata": {},
     "output_type": "execute_result"
    }
   ],
   "source": [
    "# plt.scatter(data.Frequency, data.Threshold)\n",
    "plt.figure()\n",
    "sns.stripplot(x=\"Frequency\", y=\"Threshold\", data=data, color='black')"
   ]
  },
  {
   "cell_type": "code",
   "execution_count": 9,
   "metadata": {},
   "outputs": [
    {
     "data": {
      "text/plain": [
       "[<matplotlib.lines.Line2D at 0x11fe1b8d0>]"
      ]
     },
     "execution_count": 9,
     "metadata": {},
     "output_type": "execute_result"
    }
   ],
   "source": [
    "plt.figure()\n",
    "plt.plot(data.index, data.Threshold > 0, 'r.')\n",
    "plt.plot(data.index, data['Yes/No'], 'bo', fillstyle='none')"
   ]
  },
  {
   "cell_type": "markdown",
   "metadata": {},
   "source": [
    "## polynomial regression"
   ]
  },
  {
   "cell_type": "code",
   "execution_count": 34,
   "metadata": {},
   "outputs": [
    {
     "data": {
      "text/html": [
       "<div>\n",
       "<style scoped>\n",
       "    .dataframe tbody tr th:only-of-type {\n",
       "        vertical-align: middle;\n",
       "    }\n",
       "\n",
       "    .dataframe tbody tr th {\n",
       "        vertical-align: top;\n",
       "    }\n",
       "\n",
       "    .dataframe thead th {\n",
       "        text-align: right;\n",
       "    }\n",
       "</style>\n",
       "<table border=\"1\" class=\"dataframe\">\n",
       "  <thead>\n",
       "    <tr style=\"text-align: right;\">\n",
       "      <th></th>\n",
       "      <th>ID</th>\n",
       "      <th>Iteration</th>\n",
       "      <th>Threshold</th>\n",
       "      <th>Yes/No</th>\n",
       "      <th>Perceived</th>\n",
       "    </tr>\n",
       "    <tr>\n",
       "      <th>Frequency</th>\n",
       "      <th></th>\n",
       "      <th></th>\n",
       "      <th></th>\n",
       "      <th></th>\n",
       "      <th></th>\n",
       "    </tr>\n",
       "  </thead>\n",
       "  <tbody>\n",
       "    <tr>\n",
       "      <th>25</th>\n",
       "      <td>P1</td>\n",
       "      <td>1</td>\n",
       "      <td>14.167777</td>\n",
       "      <td>NaN</td>\n",
       "      <td>True</td>\n",
       "    </tr>\n",
       "    <tr>\n",
       "      <th>10</th>\n",
       "      <td>P1</td>\n",
       "      <td>2</td>\n",
       "      <td>14.531105</td>\n",
       "      <td>NaN</td>\n",
       "      <td>True</td>\n",
       "    </tr>\n",
       "    <tr>\n",
       "      <th>65</th>\n",
       "      <td>P1</td>\n",
       "      <td>3</td>\n",
       "      <td>58.395892</td>\n",
       "      <td>NaN</td>\n",
       "      <td>True</td>\n",
       "    </tr>\n",
       "    <tr>\n",
       "      <th>80</th>\n",
       "      <td>P1</td>\n",
       "      <td>4</td>\n",
       "      <td>NaN</td>\n",
       "      <td>NaN</td>\n",
       "      <td>False</td>\n",
       "    </tr>\n",
       "    <tr>\n",
       "      <th>250</th>\n",
       "      <td>P1</td>\n",
       "      <td>5</td>\n",
       "      <td>NaN</td>\n",
       "      <td>NaN</td>\n",
       "      <td>False</td>\n",
       "    </tr>\n",
       "    <tr>\n",
       "      <th>...</th>\n",
       "      <td>...</td>\n",
       "      <td>...</td>\n",
       "      <td>...</td>\n",
       "      <td>...</td>\n",
       "      <td>...</td>\n",
       "    </tr>\n",
       "    <tr>\n",
       "      <th>20</th>\n",
       "      <td>P60</td>\n",
       "      <td>46</td>\n",
       "      <td>22.616422</td>\n",
       "      <td>1.0</td>\n",
       "      <td>True</td>\n",
       "    </tr>\n",
       "    <tr>\n",
       "      <th>250</th>\n",
       "      <td>P60</td>\n",
       "      <td>47</td>\n",
       "      <td>11.712468</td>\n",
       "      <td>1.0</td>\n",
       "      <td>True</td>\n",
       "    </tr>\n",
       "    <tr>\n",
       "      <th>300</th>\n",
       "      <td>P60</td>\n",
       "      <td>48</td>\n",
       "      <td>NaN</td>\n",
       "      <td>0.0</td>\n",
       "      <td>False</td>\n",
       "    </tr>\n",
       "    <tr>\n",
       "      <th>20</th>\n",
       "      <td>P60</td>\n",
       "      <td>49</td>\n",
       "      <td>25.917256</td>\n",
       "      <td>1.0</td>\n",
       "      <td>True</td>\n",
       "    </tr>\n",
       "    <tr>\n",
       "      <th>300</th>\n",
       "      <td>P60</td>\n",
       "      <td>50</td>\n",
       "      <td>8.368097</td>\n",
       "      <td>1.0</td>\n",
       "      <td>True</td>\n",
       "    </tr>\n",
       "  </tbody>\n",
       "</table>\n",
       "<p>2900 rows × 5 columns</p>\n",
       "</div>"
      ],
      "text/plain": [
       "            ID  Iteration  Threshold  Yes/No  Perceived\n",
       "Frequency                                              \n",
       "25          P1          1  14.167777     NaN       True\n",
       "10          P1          2  14.531105     NaN       True\n",
       "65          P1          3  58.395892     NaN       True\n",
       "80          P1          4        NaN     NaN      False\n",
       "250         P1          5        NaN     NaN      False\n",
       "...        ...        ...        ...     ...        ...\n",
       "20         P60         46  22.616422     1.0       True\n",
       "250        P60         47  11.712468     1.0       True\n",
       "300        P60         48        NaN     0.0      False\n",
       "20         P60         49  25.917256     1.0       True\n",
       "300        P60         50   8.368097     1.0       True\n",
       "\n",
       "[2900 rows x 5 columns]"
      ]
     },
     "execution_count": 34,
     "metadata": {},
     "output_type": "execute_result"
    }
   ],
   "source": [
    "data = data.set_index('Frequency')\n",
    "idxFreq = distr_perceived[distr_perceived >0.8].index\n",
    "data"
   ]
  },
  {
   "cell_type": "code",
   "execution_count": 35,
   "metadata": {},
   "outputs": [],
   "source": [
    "new_data = data.loc[idxFreq].dropna(subset=[\"Threshold\"]) ## remove rows with no perception"
   ]
  },
  {
   "cell_type": "markdown",
   "metadata": {},
   "source": [
    "### Using sklearn linear_model - polynomialFeatures\n",
    "(can be done with numpy poly1d)"
   ]
  },
  {
   "cell_type": "code",
   "execution_count": 24,
   "metadata": {},
   "outputs": [],
   "source": [
    "from sklearn.linear_model import LinearRegression\n",
    "from sklearn.metrics import mean_squared_error, r2_score\n",
    "from sklearn.preprocessing import PolynomialFeatures"
   ]
  },
  {
   "cell_type": "code",
   "execution_count": 36,
   "metadata": {},
   "outputs": [],
   "source": [
    "Freq = new_data.index.to_numpy()\n",
    "Thres = new_data.Threshold\n",
    "nFreq = np.arange(0,150)\n",
    "\n",
    "x = Freq[:, np.newaxis]\n",
    "y = Thres[:, np.newaxis]\n",
    "new_x = np.arange(0,150)[:,np.newaxis]\n",
    "\n",
    "polynomial_features = PolynomialFeatures(degree=2)\n",
    "x_poly = polynomial_features.fit_transform(x)\n",
    "newx_poly = polynomial_features.fit_transform(new_x)\n",
    "\n",
    "model = LinearRegression()\n",
    "\n",
    "# linear regression\n",
    "model.fit(x, y)\n",
    "y_pred = model.predict(new_x)\n",
    "\n",
    "# polynomial regression\n",
    "model.fit(x_poly, y)\n",
    "ypol_predict = model.predict(newx_poly)"
   ]
  },
  {
   "cell_type": "code",
   "execution_count": 38,
   "metadata": {},
   "outputs": [
    {
     "data": {
      "text/plain": [
       "[<matplotlib.lines.Line2D at 0x12c284190>]"
      ]
     },
     "execution_count": 38,
     "metadata": {},
     "output_type": "execute_result"
    }
   ],
   "source": [
    "plt.figure()\n",
    "plt.scatter(data.index, data.Threshold, color='k')\n",
    "\n",
    "plt.plot(Freq, Thres, 'r.', ms=5)\n",
    "plt.plot(new_x, y_pred, 'blue')\n",
    "plt.plot(new_x, ypol_predict, 'm')"
   ]
  },
  {
   "cell_type": "markdown",
   "metadata": {},
   "source": [
    "### Using StatsModels for statistics\n",
    "https://ostwalprasad.github.io/machine-learning/Polynomial-Regression-using-statsmodel.html"
   ]
  },
  {
   "cell_type": "code",
   "execution_count": 40,
   "metadata": {},
   "outputs": [],
   "source": [
    "import statsmodels.api as sm"
   ]
  },
  {
   "cell_type": "code",
   "execution_count": 41,
   "metadata": {},
   "outputs": [],
   "source": [
    "s_model = sm.OLS(y, x_poly).fit()\n",
    "sy_pred = s_model.predict(x_poly)"
   ]
  },
  {
   "cell_type": "code",
   "execution_count": 42,
   "metadata": {},
   "outputs": [
    {
     "data": {
      "text/plain": [
       "[<matplotlib.lines.Line2D at 0x127befbd0>]"
      ]
     },
     "execution_count": 42,
     "metadata": {},
     "output_type": "execute_result"
    }
   ],
   "source": [
    "plt.plot(x, sy_pred, 'r:', linewidth=3)"
   ]
  },
  {
   "cell_type": "code",
   "execution_count": 43,
   "metadata": {},
   "outputs": [
    {
     "data": {
      "text/html": [
       "<table class=\"simpletable\">\n",
       "<caption>OLS Regression Results</caption>\n",
       "<tr>\n",
       "  <th>Dep. Variable:</th>            <td>y</td>        <th>  R-squared:         </th> <td>   0.119</td> \n",
       "</tr>\n",
       "<tr>\n",
       "  <th>Model:</th>                   <td>OLS</td>       <th>  Adj. R-squared:    </th> <td>   0.118</td> \n",
       "</tr>\n",
       "<tr>\n",
       "  <th>Method:</th>             <td>Least Squares</td>  <th>  F-statistic:       </th> <td>   97.61</td> \n",
       "</tr>\n",
       "<tr>\n",
       "  <th>Date:</th>             <td>Fri, 14 Feb 2020</td> <th>  Prob (F-statistic):</th> <td>1.70e-40</td> \n",
       "</tr>\n",
       "<tr>\n",
       "  <th>Time:</th>                 <td>11:47:20</td>     <th>  Log-Likelihood:    </th> <td> -5775.0</td> \n",
       "</tr>\n",
       "<tr>\n",
       "  <th>No. Observations:</th>      <td>  1452</td>      <th>  AIC:               </th> <td>1.156e+04</td>\n",
       "</tr>\n",
       "<tr>\n",
       "  <th>Df Residuals:</th>          <td>  1449</td>      <th>  BIC:               </th> <td>1.157e+04</td>\n",
       "</tr>\n",
       "<tr>\n",
       "  <th>Df Model:</th>              <td>     2</td>      <th>                     </th>     <td> </td>    \n",
       "</tr>\n",
       "<tr>\n",
       "  <th>Covariance Type:</th>      <td>nonrobust</td>    <th>                     </th>     <td> </td>    \n",
       "</tr>\n",
       "</table>\n",
       "<table class=\"simpletable\">\n",
       "<tr>\n",
       "    <td></td>       <th>coef</th>     <th>std err</th>      <th>t</th>      <th>P>|t|</th>  <th>[0.025</th>    <th>0.975]</th>  \n",
       "</tr>\n",
       "<tr>\n",
       "  <th>const</th> <td>   39.1624</td> <td>    1.580</td> <td>   24.794</td> <td> 0.000</td> <td>   36.064</td> <td>   42.261</td>\n",
       "</tr>\n",
       "<tr>\n",
       "  <th>x1</th>    <td>   -0.7871</td> <td>    0.089</td> <td>   -8.817</td> <td> 0.000</td> <td>   -0.962</td> <td>   -0.612</td>\n",
       "</tr>\n",
       "<tr>\n",
       "  <th>x2</th>    <td>    0.0119</td> <td>    0.001</td> <td>   10.845</td> <td> 0.000</td> <td>    0.010</td> <td>    0.014</td>\n",
       "</tr>\n",
       "</table>\n",
       "<table class=\"simpletable\">\n",
       "<tr>\n",
       "  <th>Omnibus:</th>       <td>173.877</td> <th>  Durbin-Watson:     </th> <td>   1.283</td>\n",
       "</tr>\n",
       "<tr>\n",
       "  <th>Prob(Omnibus):</th> <td> 0.000</td>  <th>  Jarque-Bera (JB):  </th> <td> 248.584</td>\n",
       "</tr>\n",
       "<tr>\n",
       "  <th>Skew:</th>          <td> 0.888</td>  <th>  Prob(JB):          </th> <td>1.05e-54</td>\n",
       "</tr>\n",
       "<tr>\n",
       "  <th>Kurtosis:</th>      <td> 3.978</td>  <th>  Cond. No.          </th> <td>1.14e+04</td>\n",
       "</tr>\n",
       "</table><br/><br/>Warnings:<br/>[1] Standard Errors assume that the covariance matrix of the errors is correctly specified.<br/>[2] The condition number is large, 1.14e+04. This might indicate that there are<br/>strong multicollinearity or other numerical problems."
      ],
      "text/plain": [
       "<class 'statsmodels.iolib.summary.Summary'>\n",
       "\"\"\"\n",
       "                            OLS Regression Results                            \n",
       "==============================================================================\n",
       "Dep. Variable:                      y   R-squared:                       0.119\n",
       "Model:                            OLS   Adj. R-squared:                  0.118\n",
       "Method:                 Least Squares   F-statistic:                     97.61\n",
       "Date:                Fri, 14 Feb 2020   Prob (F-statistic):           1.70e-40\n",
       "Time:                        11:47:20   Log-Likelihood:                -5775.0\n",
       "No. Observations:                1452   AIC:                         1.156e+04\n",
       "Df Residuals:                    1449   BIC:                         1.157e+04\n",
       "Df Model:                           2                                         \n",
       "Covariance Type:            nonrobust                                         \n",
       "==============================================================================\n",
       "                 coef    std err          t      P>|t|      [0.025      0.975]\n",
       "------------------------------------------------------------------------------\n",
       "const         39.1624      1.580     24.794      0.000      36.064      42.261\n",
       "x1            -0.7871      0.089     -8.817      0.000      -0.962      -0.612\n",
       "x2             0.0119      0.001     10.845      0.000       0.010       0.014\n",
       "==============================================================================\n",
       "Omnibus:                      173.877   Durbin-Watson:                   1.283\n",
       "Prob(Omnibus):                  0.000   Jarque-Bera (JB):              248.584\n",
       "Skew:                           0.888   Prob(JB):                     1.05e-54\n",
       "Kurtosis:                       3.978   Cond. No.                     1.14e+04\n",
       "==============================================================================\n",
       "\n",
       "Warnings:\n",
       "[1] Standard Errors assume that the covariance matrix of the errors is correctly specified.\n",
       "[2] The condition number is large, 1.14e+04. This might indicate that there are\n",
       "strong multicollinearity or other numerical problems.\n",
       "\"\"\""
      ]
     },
     "execution_count": 43,
     "metadata": {},
     "output_type": "execute_result"
    }
   ],
   "source": [
    "s_model.summary()"
   ]
  },
  {
   "cell_type": "code",
   "execution_count": 58,
   "metadata": {},
   "outputs": [],
   "source": [
    "predictions = s_model.get_prediction(newx_poly)\n",
    "toto = predictions.summary_frame(alpha=0.01)"
   ]
  },
  {
   "cell_type": "code",
   "execution_count": 64,
   "metadata": {},
   "outputs": [
    {
     "data": {
      "text/html": [
       "<div>\n",
       "<style scoped>\n",
       "    .dataframe tbody tr th:only-of-type {\n",
       "        vertical-align: middle;\n",
       "    }\n",
       "\n",
       "    .dataframe tbody tr th {\n",
       "        vertical-align: top;\n",
       "    }\n",
       "\n",
       "    .dataframe thead th {\n",
       "        text-align: right;\n",
       "    }\n",
       "</style>\n",
       "<table border=\"1\" class=\"dataframe\">\n",
       "  <thead>\n",
       "    <tr style=\"text-align: right;\">\n",
       "      <th></th>\n",
       "      <th>mean</th>\n",
       "      <th>mean_se</th>\n",
       "      <th>mean_ci_lower</th>\n",
       "      <th>mean_ci_upper</th>\n",
       "      <th>obs_ci_lower</th>\n",
       "      <th>obs_ci_upper</th>\n",
       "    </tr>\n",
       "  </thead>\n",
       "  <tbody>\n",
       "    <tr>\n",
       "      <th>0</th>\n",
       "      <td>39.162374</td>\n",
       "      <td>1.579530</td>\n",
       "      <td>35.088409</td>\n",
       "      <td>43.236339</td>\n",
       "      <td>5.571885</td>\n",
       "      <td>72.752863</td>\n",
       "    </tr>\n",
       "    <tr>\n",
       "      <th>1</th>\n",
       "      <td>38.387213</td>\n",
       "      <td>1.497072</td>\n",
       "      <td>34.525926</td>\n",
       "      <td>42.248500</td>\n",
       "      <td>4.821854</td>\n",
       "      <td>71.952572</td>\n",
       "    </tr>\n",
       "    <tr>\n",
       "      <th>2</th>\n",
       "      <td>37.635831</td>\n",
       "      <td>1.417149</td>\n",
       "      <td>33.980683</td>\n",
       "      <td>41.290979</td>\n",
       "      <td>4.093561</td>\n",
       "      <td>71.178101</td>\n",
       "    </tr>\n",
       "    <tr>\n",
       "      <th>3</th>\n",
       "      <td>36.908228</td>\n",
       "      <td>1.339802</td>\n",
       "      <td>33.452575</td>\n",
       "      <td>40.363880</td>\n",
       "      <td>3.387110</td>\n",
       "      <td>70.429345</td>\n",
       "    </tr>\n",
       "    <tr>\n",
       "      <th>4</th>\n",
       "      <td>36.204403</td>\n",
       "      <td>1.265077</td>\n",
       "      <td>32.941484</td>\n",
       "      <td>39.467323</td>\n",
       "      <td>2.702606</td>\n",
       "      <td>69.706201</td>\n",
       "    </tr>\n",
       "    <tr>\n",
       "      <th>...</th>\n",
       "      <td>...</td>\n",
       "      <td>...</td>\n",
       "      <td>...</td>\n",
       "      <td>...</td>\n",
       "      <td>...</td>\n",
       "      <td>...</td>\n",
       "    </tr>\n",
       "    <tr>\n",
       "      <th>145</th>\n",
       "      <td>175.017288</td>\n",
       "      <td>11.901475</td>\n",
       "      <td>144.320689</td>\n",
       "      <td>205.713887</td>\n",
       "      <td>129.696156</td>\n",
       "      <td>220.338420</td>\n",
       "    </tr>\n",
       "    <tr>\n",
       "      <th>146</th>\n",
       "      <td>177.690089</td>\n",
       "      <td>12.132940</td>\n",
       "      <td>146.396488</td>\n",
       "      <td>208.983690</td>\n",
       "      <td>131.962491</td>\n",
       "      <td>223.417688</td>\n",
       "    </tr>\n",
       "    <tr>\n",
       "      <th>147</th>\n",
       "      <td>180.386670</td>\n",
       "      <td>12.366603</td>\n",
       "      <td>148.490399</td>\n",
       "      <td>212.282940</td>\n",
       "      <td>134.244543</td>\n",
       "      <td>226.528796</td>\n",
       "    </tr>\n",
       "    <tr>\n",
       "      <th>148</th>\n",
       "      <td>183.107029</td>\n",
       "      <td>12.602463</td>\n",
       "      <td>150.602422</td>\n",
       "      <td>215.611636</td>\n",
       "      <td>136.542308</td>\n",
       "      <td>229.671750</td>\n",
       "    </tr>\n",
       "    <tr>\n",
       "      <th>149</th>\n",
       "      <td>185.851167</td>\n",
       "      <td>12.840520</td>\n",
       "      <td>152.732557</td>\n",
       "      <td>218.969777</td>\n",
       "      <td>138.855783</td>\n",
       "      <td>232.846551</td>\n",
       "    </tr>\n",
       "  </tbody>\n",
       "</table>\n",
       "<p>150 rows × 6 columns</p>\n",
       "</div>"
      ],
      "text/plain": [
       "           mean    mean_se  mean_ci_lower  mean_ci_upper  obs_ci_lower  \\\n",
       "0     39.162374   1.579530      35.088409      43.236339      5.571885   \n",
       "1     38.387213   1.497072      34.525926      42.248500      4.821854   \n",
       "2     37.635831   1.417149      33.980683      41.290979      4.093561   \n",
       "3     36.908228   1.339802      33.452575      40.363880      3.387110   \n",
       "4     36.204403   1.265077      32.941484      39.467323      2.702606   \n",
       "..          ...        ...            ...            ...           ...   \n",
       "145  175.017288  11.901475     144.320689     205.713887    129.696156   \n",
       "146  177.690089  12.132940     146.396488     208.983690    131.962491   \n",
       "147  180.386670  12.366603     148.490399     212.282940    134.244543   \n",
       "148  183.107029  12.602463     150.602422     215.611636    136.542308   \n",
       "149  185.851167  12.840520     152.732557     218.969777    138.855783   \n",
       "\n",
       "     obs_ci_upper  \n",
       "0       72.752863  \n",
       "1       71.952572  \n",
       "2       71.178101  \n",
       "3       70.429345  \n",
       "4       69.706201  \n",
       "..            ...  \n",
       "145    220.338420  \n",
       "146    223.417688  \n",
       "147    226.528796  \n",
       "148    229.671750  \n",
       "149    232.846551  \n",
       "\n",
       "[150 rows x 6 columns]"
      ]
     },
     "execution_count": 64,
     "metadata": {},
     "output_type": "execute_result"
    }
   ],
   "source": [
    "toto"
   ]
  },
  {
   "cell_type": "code",
   "execution_count": 45,
   "metadata": {},
   "outputs": [],
   "source": [
    "predictions = s_model.get_prediction(newx_poly)"
   ]
  },
  {
   "cell_type": "code",
   "execution_count": 89,
   "metadata": {},
   "outputs": [
    {
     "data": {
      "text/plain": [
       "<matplotlib.legend.Legend at 0x12f007550>"
      ]
     },
     "execution_count": 89,
     "metadata": {},
     "output_type": "execute_result"
    }
   ],
   "source": [
    "conf_95 = predictions.summary_frame()\n",
    "conf_01 = predictions.summary_frame(alpha=0.01)\n",
    "\n",
    "plt.plot(new_x,conf_95['mean'],'b', linewidth=3, label=\"Mean\")\n",
    "plt.plot(new_x,conf_95['mean_ci_lower'],'cyan')\n",
    "plt.plot(new_x,conf_95['mean_ci_upper'],'cyan')\n",
    "plt.fill_between(conf_95.index, conf_95.mean_ci_lower, conf_95.mean_ci_upper, alpha=.3)\n",
    "\n",
    "plt.plot(new_x,conf_01.obs_ci_upper,':',label=\"99%\")\n",
    "plt.plot(new_x,conf_95.obs_ci_upper,':',label=\"87.5%\")\n",
    "plt.plot(new_x,conf_95.obs_ci_lower,':',label=\"2.5%\")\n",
    "plt.plot(new_x,conf_01.obs_ci_lower,':',label=\"1%\")\n",
    "\n",
    "plt.plot(data.index, data.Threshold, 'k.')\n",
    "plt.plot(Freq, Thres, 'r.', ms=2)\n",
    "\n",
    "plt.xlabel('MF Frequency (Hz)')\n",
    "plt.ylabel('Threshold (mT)')\n",
    "\n",
    "plt.legend()"
   ]
  },
  {
   "cell_type": "code",
   "execution_count": 47,
   "metadata": {},
   "outputs": [
    {
     "data": {
      "text/plain": [
       "[<matplotlib.lines.Line2D at 0x127bef150>]"
      ]
     },
     "execution_count": 47,
     "metadata": {},
     "output_type": "execute_result"
    }
   ],
   "source": [
    "plt.plot(new_x,toto.obs_ci_lower,':',label=\"Lower 1%\")"
   ]
  },
  {
   "cell_type": "code",
   "execution_count": 48,
   "metadata": {},
   "outputs": [
    {
     "data": {
      "text/plain": [
       "<matplotlib.legend.Legend at 0x1238c23d0>"
      ]
     },
     "execution_count": 48,
     "metadata": {},
     "output_type": "execute_result"
    }
   ],
   "source": [
    "plt.legend()"
   ]
  },
  {
   "cell_type": "code",
   "execution_count": 79,
   "metadata": {},
   "outputs": [
    {
     "data": {
      "text/html": [
       "<div>\n",
       "<style scoped>\n",
       "    .dataframe tbody tr th:only-of-type {\n",
       "        vertical-align: middle;\n",
       "    }\n",
       "\n",
       "    .dataframe tbody tr th {\n",
       "        vertical-align: top;\n",
       "    }\n",
       "\n",
       "    .dataframe thead th {\n",
       "        text-align: right;\n",
       "    }\n",
       "</style>\n",
       "<table border=\"1\" class=\"dataframe\">\n",
       "  <thead>\n",
       "    <tr style=\"text-align: right;\">\n",
       "      <th></th>\n",
       "      <th>mean</th>\n",
       "      <th>mean_se</th>\n",
       "      <th>mean_ci_lower</th>\n",
       "      <th>mean_ci_upper</th>\n",
       "      <th>obs_ci_lower</th>\n",
       "      <th>obs_ci_upper</th>\n",
       "    </tr>\n",
       "  </thead>\n",
       "  <tbody>\n",
       "    <tr>\n",
       "      <th>0</th>\n",
       "      <td>39.162374</td>\n",
       "      <td>1.579530</td>\n",
       "      <td>36.063965</td>\n",
       "      <td>42.260783</td>\n",
       "      <td>13.615496</td>\n",
       "      <td>64.709252</td>\n",
       "    </tr>\n",
       "    <tr>\n",
       "      <th>1</th>\n",
       "      <td>38.387213</td>\n",
       "      <td>1.497072</td>\n",
       "      <td>35.450553</td>\n",
       "      <td>41.323873</td>\n",
       "      <td>12.859447</td>\n",
       "      <td>63.914979</td>\n",
       "    </tr>\n",
       "    <tr>\n",
       "      <th>2</th>\n",
       "      <td>37.635831</td>\n",
       "      <td>1.417149</td>\n",
       "      <td>34.855948</td>\n",
       "      <td>40.415713</td>\n",
       "      <td>12.125625</td>\n",
       "      <td>63.146037</td>\n",
       "    </tr>\n",
       "    <tr>\n",
       "      <th>3</th>\n",
       "      <td>36.908228</td>\n",
       "      <td>1.339802</td>\n",
       "      <td>34.280069</td>\n",
       "      <td>39.536386</td>\n",
       "      <td>11.414109</td>\n",
       "      <td>62.402346</td>\n",
       "    </tr>\n",
       "    <tr>\n",
       "      <th>4</th>\n",
       "      <td>36.204403</td>\n",
       "      <td>1.265077</td>\n",
       "      <td>33.722826</td>\n",
       "      <td>38.685981</td>\n",
       "      <td>10.724979</td>\n",
       "      <td>61.683828</td>\n",
       "    </tr>\n",
       "    <tr>\n",
       "      <th>...</th>\n",
       "      <td>...</td>\n",
       "      <td>...</td>\n",
       "      <td>...</td>\n",
       "      <td>...</td>\n",
       "      <td>...</td>\n",
       "      <td>...</td>\n",
       "    </tr>\n",
       "    <tr>\n",
       "      <th>145</th>\n",
       "      <td>175.017288</td>\n",
       "      <td>11.901475</td>\n",
       "      <td>151.671326</td>\n",
       "      <td>198.363250</td>\n",
       "      <td>140.548798</td>\n",
       "      <td>209.485778</td>\n",
       "    </tr>\n",
       "    <tr>\n",
       "      <th>146</th>\n",
       "      <td>177.690089</td>\n",
       "      <td>12.132940</td>\n",
       "      <td>153.890084</td>\n",
       "      <td>201.490095</td>\n",
       "      <td>142.912466</td>\n",
       "      <td>212.467713</td>\n",
       "    </tr>\n",
       "    <tr>\n",
       "      <th>147</th>\n",
       "      <td>180.386670</td>\n",
       "      <td>12.366603</td>\n",
       "      <td>156.128311</td>\n",
       "      <td>204.645028</td>\n",
       "      <td>145.293781</td>\n",
       "      <td>215.479558</td>\n",
       "    </tr>\n",
       "    <tr>\n",
       "      <th>148</th>\n",
       "      <td>183.107029</td>\n",
       "      <td>12.602463</td>\n",
       "      <td>158.386006</td>\n",
       "      <td>207.828051</td>\n",
       "      <td>147.692741</td>\n",
       "      <td>218.521317</td>\n",
       "    </tr>\n",
       "    <tr>\n",
       "      <th>149</th>\n",
       "      <td>185.851167</td>\n",
       "      <td>12.840520</td>\n",
       "      <td>160.663171</td>\n",
       "      <td>211.039163</td>\n",
       "      <td>150.109343</td>\n",
       "      <td>221.592991</td>\n",
       "    </tr>\n",
       "  </tbody>\n",
       "</table>\n",
       "<p>150 rows × 6 columns</p>\n",
       "</div>"
      ],
      "text/plain": [
       "           mean    mean_se  mean_ci_lower  mean_ci_upper  obs_ci_lower  \\\n",
       "0     39.162374   1.579530      36.063965      42.260783     13.615496   \n",
       "1     38.387213   1.497072      35.450553      41.323873     12.859447   \n",
       "2     37.635831   1.417149      34.855948      40.415713     12.125625   \n",
       "3     36.908228   1.339802      34.280069      39.536386     11.414109   \n",
       "4     36.204403   1.265077      33.722826      38.685981     10.724979   \n",
       "..          ...        ...            ...            ...           ...   \n",
       "145  175.017288  11.901475     151.671326     198.363250    140.548798   \n",
       "146  177.690089  12.132940     153.890084     201.490095    142.912466   \n",
       "147  180.386670  12.366603     156.128311     204.645028    145.293781   \n",
       "148  183.107029  12.602463     158.386006     207.828051    147.692741   \n",
       "149  185.851167  12.840520     160.663171     211.039163    150.109343   \n",
       "\n",
       "     obs_ci_upper  \n",
       "0       64.709252  \n",
       "1       63.914979  \n",
       "2       63.146037  \n",
       "3       62.402346  \n",
       "4       61.683828  \n",
       "..            ...  \n",
       "145    209.485778  \n",
       "146    212.467713  \n",
       "147    215.479558  \n",
       "148    218.521317  \n",
       "149    221.592991  \n",
       "\n",
       "[150 rows x 6 columns]"
      ]
     },
     "execution_count": 79,
     "metadata": {},
     "output_type": "execute_result"
    }
   ],
   "source": [
    "conf_95"
   ]
  },
  {
   "cell_type": "code",
   "execution_count": 50,
   "metadata": {},
   "outputs": [
    {
     "data": {
      "text/plain": [
       "33"
      ]
     },
     "execution_count": 50,
     "metadata": {},
     "output_type": "execute_result"
    }
   ],
   "source": [
    "toto['mean'].argmin()"
   ]
  },
  {
   "cell_type": "code",
   "execution_count": 51,
   "metadata": {},
   "outputs": [
    {
     "data": {
      "text/plain": [
       "33"
      ]
     },
     "execution_count": 51,
     "metadata": {},
     "output_type": "execute_result"
    }
   ],
   "source": [
    "toto['obs_ci_lower'].argmin()"
   ]
  },
  {
   "cell_type": "code",
   "execution_count": 54,
   "metadata": {},
   "outputs": [
    {
     "data": {
      "text/plain": [
       "<matplotlib.axes._subplots.AxesSubplot at 0x12eff3990>"
      ]
     },
     "execution_count": 54,
     "metadata": {},
     "output_type": "execute_result"
    }
   ],
   "source": [
    "toto.plot()"
   ]
  },
  {
   "cell_type": "code",
   "execution_count": 55,
   "metadata": {},
   "outputs": [
    {
     "data": {
      "text/plain": [
       "<matplotlib.axes._subplots.AxesSubplot at 0x12f1a1850>"
      ]
     },
     "execution_count": 55,
     "metadata": {},
     "output_type": "execute_result"
    }
   ],
   "source": [
    "plt.figure(7)\n",
    "toto.plot()"
   ]
  },
  {
   "cell_type": "code",
   "execution_count": 56,
   "metadata": {},
   "outputs": [
    {
     "data": {
      "text/plain": [
       "<matplotlib.collections.PolyCollection at 0x12f410110>"
      ]
     },
     "execution_count": 56,
     "metadata": {},
     "output_type": "execute_result"
    }
   ],
   "source": [
    "plt.fill_between(toto.index, toto.mean_ci_lower, toto.mean_ci_upper, alpha=.3)"
   ]
  },
  {
   "cell_type": "code",
   "execution_count": 57,
   "metadata": {},
   "outputs": [
    {
     "data": {
      "text/plain": [
       "[<matplotlib.lines.Line2D at 0x12f360090>]"
      ]
     },
     "execution_count": 57,
     "metadata": {},
     "output_type": "execute_result"
    }
   ],
   "source": [
    "plt.plot(data.index, data.Threshold, 'k.')"
   ]
  },
  {
   "cell_type": "code",
   "execution_count": null,
   "metadata": {},
   "outputs": [],
   "source": []
  }
 ],
 "metadata": {
  "kernelspec": {
   "display_name": "Python 3",
   "language": "python",
   "name": "python3"
  },
  "language_info": {
   "codemirror_mode": {
    "name": "ipython",
    "version": 3
   },
   "file_extension": ".py",
   "mimetype": "text/x-python",
   "name": "python",
   "nbconvert_exporter": "python",
   "pygments_lexer": "ipython3",
   "version": "3.7.6"
  }
 },
 "nbformat": 4,
 "nbformat_minor": 4
}
