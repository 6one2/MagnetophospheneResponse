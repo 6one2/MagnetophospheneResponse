{
 "cells": [
  {
   "cell_type": "markdown",
   "metadata": {},
   "source": [
    "# __Explore different threshold assessments__\n",
    "compares first 25s __Labview__ file with 25 to 30s from __EEG__ file "
   ]
  },
  {
   "cell_type": "code",
   "execution_count": 1,
   "metadata": {},
   "outputs": [
    {
     "name": "stderr",
     "output_type": "stream",
     "text": [
      "/Users/sebastienvillard/anaconda3/lib/python3.7/site-packages/statsmodels/tools/_testing.py:19: FutureWarning: pandas.util.testing is deprecated. Use the functions in the public API at pandas.testing instead.\n",
      "  import pandas.util.testing as tm\n"
     ]
    }
   ],
   "source": [
    "import pandas as pd\n",
    "import numpy as np\n",
    "import matplotlib.pyplot as plt\n",
    "import seaborn as sns\n",
    "from pylab import rcParams\n",
    "\n",
    "rcParams['figure.figsize'] = 10, 10\n",
    "sns.set_style(\"whitegrid\")\n",
    "\n",
    "# sampling rate 10kHz\n",
    "sr = 10000\n",
    "\n",
    "# take every N-th row (for skip_rows)\n",
    "n=2\n",
    "n_sr=sr/n\n",
    "\n",
    "# subject to analyze\n",
    "ID = 20\n",
    "f_string = f'../DATA/Complete/Res_Cadence_P{ID}'"
   ]
  },
  {
   "cell_type": "code",
   "execution_count": 2,
   "metadata": {},
   "outputs": [
    {
     "name": "stdout",
     "output_type": "stream",
     "text": [
      "Using matplotlib backend: MacOSX\n"
     ]
    }
   ],
   "source": [
    "%matplotlib auto"
   ]
  },
  {
   "cell_type": "markdown",
   "metadata": {},
   "source": [
    "## Load EEG file\n",
    "read and downsample to 5kHz"
   ]
  },
  {
   "cell_type": "code",
   "execution_count": null,
   "metadata": {},
   "outputs": [],
   "source": [
    "file_name_Eeg = f_string+'Lite.txt'\n",
    "\n",
    "# count the lines\n",
    "num_lines = sum(1 for l in open(file_name_Eeg))\n",
    "\n",
    "# the row indices to skip - make sure 0 is not included to keep header\n",
    "skip_idx = [x for x in range (1, num_lines) if x % n != 0]\n",
    "\n",
    "# read data\n",
    "eeg_df = pd.read_csv(file_name_Eeg,\n",
    "                     usecols=['Time', 'Fr', 'B', 'MF'],\n",
    "                     skiprows= skip_idx\n",
    "                    )\n",
    "\n",
    "## MF correction for distance + convertion to mT\n",
    "coef_distance = 1.27 #  from 16cm to 0cm\n",
    "coef_convert = 20 #  from V to mT (see probe manual)\n",
    "\n",
    "eeg_df['MF'] = eeg_df['MF']*2*coef_distance*coef_convert # *2 because only half signal on high level input\n",
    "\n",
    "eeg_df.head()"
   ]
  },
  {
   "cell_type": "code",
   "execution_count": null,
   "metadata": {},
   "outputs": [],
   "source": [
    "plt.figure(1)\n",
    "plt.plot(eeg_df['Time'], eeg_df['MF'])\n",
    "subset = eeg_df['Time'].diff()>1\n",
    "subset[0]=True\n",
    "plt.plot(eeg_df[subset]['Time'], eeg_df[subset]['MF'],'ro')\n",
    "# plt.plot(eeg_df[\"Time\"])"
   ]
  },
  {
   "cell_type": "markdown",
   "metadata": {},
   "source": [
    "## Load Labview file\n",
    "read and downsample to 5kHz"
   ]
  },
  {
   "cell_type": "code",
   "execution_count": 3,
   "metadata": {},
   "outputs": [
    {
     "data": {
      "text/html": [
       "<div>\n",
       "<style scoped>\n",
       "    .dataframe tbody tr th:only-of-type {\n",
       "        vertical-align: middle;\n",
       "    }\n",
       "\n",
       "    .dataframe tbody tr th {\n",
       "        vertical-align: top;\n",
       "    }\n",
       "\n",
       "    .dataframe thead th {\n",
       "        text-align: right;\n",
       "    }\n",
       "</style>\n",
       "<table border=\"1\" class=\"dataframe\">\n",
       "  <thead>\n",
       "    <tr style=\"text-align: right;\">\n",
       "      <th></th>\n",
       "      <th>Time</th>\n",
       "      <th>MF</th>\n",
       "      <th>Dial</th>\n",
       "      <th>Current</th>\n",
       "    </tr>\n",
       "  </thead>\n",
       "  <tbody>\n",
       "    <tr>\n",
       "      <th>0</th>\n",
       "      <td>0.0</td>\n",
       "      <td>0.228104</td>\n",
       "      <td>1.275271e-12</td>\n",
       "      <td>0.002542</td>\n",
       "    </tr>\n",
       "    <tr>\n",
       "      <th>1</th>\n",
       "      <td>NaN</td>\n",
       "      <td>0.416170</td>\n",
       "      <td>4.605991e-11</td>\n",
       "      <td>-0.000677</td>\n",
       "    </tr>\n",
       "    <tr>\n",
       "      <th>2</th>\n",
       "      <td>NaN</td>\n",
       "      <td>0.129983</td>\n",
       "      <td>3.088293e-10</td>\n",
       "      <td>0.008015</td>\n",
       "    </tr>\n",
       "    <tr>\n",
       "      <th>3</th>\n",
       "      <td>NaN</td>\n",
       "      <td>0.342579</td>\n",
       "      <td>1.027759e-09</td>\n",
       "      <td>0.017028</td>\n",
       "    </tr>\n",
       "    <tr>\n",
       "      <th>4</th>\n",
       "      <td>NaN</td>\n",
       "      <td>0.416170</td>\n",
       "      <td>2.432673e-09</td>\n",
       "      <td>0.004474</td>\n",
       "    </tr>\n",
       "  </tbody>\n",
       "</table>\n",
       "</div>"
      ],
      "text/plain": [
       "   Time        MF          Dial   Current\n",
       "0   0.0  0.228104  1.275271e-12  0.002542\n",
       "1   NaN  0.416170  4.605991e-11 -0.000677\n",
       "2   NaN  0.129983  3.088293e-10  0.008015\n",
       "3   NaN  0.342579  1.027759e-09  0.017028\n",
       "4   NaN  0.416170  2.432673e-09  0.004474"
      ]
     },
     "execution_count": 3,
     "metadata": {},
     "output_type": "execute_result"
    }
   ],
   "source": [
    "file_name_Lab = f_string+'.txt'\n",
    "\n",
    "# count the lines\n",
    "header_end = 23\n",
    "num_lines = sum(1 for i, l in enumerate(open(file_name_Lab)) if i > header_end)\n",
    "\n",
    "# the row indices to skip - make sure 0 is not included to keep header\n",
    "skip_idx = list(range(header_end-1))\n",
    "skip_idx.extend([x for x in range (header_end, num_lines) if (x-header_end) % n != 0])\n",
    "lab_df = pd.read_csv(file_name_Lab,\n",
    "                     skiprows=skip_idx, \n",
    "                     delimiter='\\t',\n",
    "                     usecols=['Untitled', 'Untitled 1', 'Untitled 2', 'Current'])\n",
    "lab_df.columns=['Time', 'MF', 'Dial', 'Current']\n",
    "lab_df.head()"
   ]
  },
  {
   "cell_type": "code",
   "execution_count": 58,
   "metadata": {},
   "outputs": [
    {
     "data": {
      "text/plain": [
       "[<matplotlib.lines.Line2D at 0x1aa609f50>]"
      ]
     },
     "execution_count": 58,
     "metadata": {},
     "output_type": "execute_result"
    }
   ],
   "source": [
    "plt.figure(3)\n",
    "plt.plot(lab_df['MF'])\n",
    "plt.plot(lab_df.query('Time == 0')['MF'], 'ro')\n"
   ]
  },
  {
   "cell_type": "markdown",
   "metadata": {},
   "source": [
    "## __Rebuilding Signal__ 25s Labview + 5s EEG (for Time and MF)"
   ]
  },
  {
   "cell_type": "code",
   "execution_count": null,
   "metadata": {},
   "outputs": [],
   "source": [
    "stLab = lab_df.query('Time == 0')\n",
    "subset = eeg_df['Time'].diff().fillna(2)>1\n",
    "stEeg = eeg_df[subset]"
   ]
  },
  {
   "cell_type": "code",
   "execution_count": null,
   "metadata": {},
   "outputs": [],
   "source": [
    "n_MF = pd.DataFrame()\n",
    "\n",
    "for i in range(50):\n",
    "    idxLab = stLab.index.tolist()\n",
    "    idxLab.append(lab_df.index[-1])\n",
    "    \n",
    "    idxEeg = stEeg.index.tolist()\n",
    "    idxEeg.append(eeg_df.index[-1])\n",
    "    \n",
    "    section_Lab = np.arange(idxLab[:-1][i],idxLab[1:][i])\n",
    "    section_Eeg = np.arange(idxEeg[:-1][i],idxEeg[1:][i])\n",
    "    \n",
    "    data = pd.concat([lab_df.loc[section_Lab,'MF'],eeg_df.loc[section_Eeg, 'MF']], \n",
    "                     keys=['LAB', 'EEG'], \n",
    "                     names=['Source', 'Iteration_no'])\n",
    "    data = data.reset_index()\n",
    "    data['Time']=np.linspace(start=1/n_sr, stop=len(data)*1/n_sr, num=len(data))\n",
    "    data['Iteration_no'] = f'Iter{i}'\n",
    "\n",
    "    n_MF = n_MF.append(data)\n",
    "    "
   ]
  },
  {
   "cell_type": "markdown",
   "metadata": {},
   "source": [
    "## Graph all iterations (__caution__) "
   ]
  },
  {
   "cell_type": "code",
   "execution_count": null,
   "metadata": {},
   "outputs": [],
   "source": [
    "for it in n_MF['Iteration_no'].unique():\n",
    "    plt.figure()\n",
    "    sns.lineplot(data = n_MF.query(f'Iteration_no == \"{it}\"'),\n",
    "                 x='Time',\n",
    "                 y='MF',\n",
    "                 hue='Source'\n",
    "                )\n",
    "    plt.title(f'Iteration # {it}')\n",
    "    plt.legend(loc='upper left')"
   ]
  },
  {
   "cell_type": "markdown",
   "metadata": {},
   "source": [
    "## Table of rms value LAB vs EEG (for MF in mT from probe @ 16cm)\n",
    "0.5s of LAB vs 5s of EEG"
   ]
  },
  {
   "cell_type": "code",
   "execution_count": null,
   "metadata": {},
   "outputs": [],
   "source": [
    "pd.options.display.max_rows = 100"
   ]
  },
  {
   "cell_type": "code",
   "execution_count": null,
   "metadata": {},
   "outputs": [],
   "source": [
    "rms_RES = n_MF.query('Time > 24.5').groupby(by=['Source', 'Iteration_no']).apply(lambda x: np.sqrt(np.mean(x**2)))\n",
    "cm = sns.light_palette(\"green\", as_cmap=True)\n",
    "rms_RES.sort_index(level=1).style.background_gradient(cmap=cm, subset=['MF'])"
   ]
  },
  {
   "cell_type": "markdown",
   "metadata": {},
   "source": [
    "### graph individual Iteration based on table"
   ]
  },
  {
   "cell_type": "code",
   "execution_count": null,
   "metadata": {},
   "outputs": [],
   "source": [
    "IT_no = 34\n",
    "ax = n_MF.query(f'Source == \"LAB\" & Iteration_no==\"Iter{IT_no}\"').plot(x='Time', y='MF')\n",
    "n_MF.query(f'Source == \"EEG\" & Iteration_no==\"Iter{IT_no}\"').plot(x='Time', y='MF', ax=ax)\n",
    "plt.title(f'Subject ID: {ID} --- Iteration # {IT_no}')"
   ]
  },
  {
   "cell_type": "code",
   "execution_count": null,
   "metadata": {},
   "outputs": [],
   "source": []
  }
 ],
 "metadata": {
  "kernelspec": {
   "display_name": "Python 3",
   "language": "python",
   "name": "python3"
  },
  "language_info": {
   "codemirror_mode": {
    "name": "ipython",
    "version": 3
   },
   "file_extension": ".py",
   "mimetype": "text/x-python",
   "name": "python",
   "nbconvert_exporter": "python",
   "pygments_lexer": "ipython3",
   "version": "3.7.6"
  }
 },
 "nbformat": 4,
 "nbformat_minor": 4
}
